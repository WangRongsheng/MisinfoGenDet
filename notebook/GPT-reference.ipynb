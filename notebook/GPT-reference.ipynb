{
  "cells": [
    {
      "cell_type": "code",
      "execution_count": null,
      "metadata": {
        "id": "F4xdBifvyCxS"
      },
      "outputs": [],
      "source": [
        "!pip install langchain\n",
        "!pip install openai\n",
        "from langchain.llms import OpenAI\n",
        "from langchain.chat_models import ChatOpenAI\n",
        "from langchain.prompts import PromptTemplate\n",
        "from langchain.chains import LLMChain\n",
        "from langchain import FewShotPromptTemplate\n",
        "from langchain.schema import(AIMessage,HumanMessage,SystemMessage)\n",
        "import os"
      ]
    },
    {
      "cell_type": "code",
      "execution_count": 2,
      "metadata": {
        "id": "DSot-U1bzREX"
      },
      "outputs": [],
      "source": [
        "os.environ['OPENAI_API_KEY'] = 'sk-xxxx'"
      ]
    },
    {
      "cell_type": "code",
      "execution_count": 3,
      "metadata": {
        "id": "b5DBuALgzaWN"
      },
      "outputs": [],
      "source": [
        "def few_shot_cot(claim_text):\n",
        "  examples = [\n",
        "  {\"claim\": \"\"\" # The claim is that In 1959 , former Chilean boxer Alfredo Cornejo Cuevas (born June 6, 1933) won the gold medal in the welterweight division at the Pan American Games (held in Chicago, United States, from August 27 to September 7) in Chicago, United States, and the world amateur welterweight title in Mexico City. \"\"\",\n",
        "  \"program\": \"\"\"\n",
        "  def program ():\n",
        "    fact_1 = Verify (\" Alfredo Cornejo Cuevas was born in June 6 , 1933. \")\n",
        "    fact_2 = Verify (\" Alfredo Cornejo Cuevas won the gold medal in the welterweight division at the Pan American Games in 1959. \")\n",
        "    fact_3 = Verify (\" The Pan American Games in 1959 was held in Chicago , United States , from August 27 to September 7.\")\n",
        "    fact_4 = Verify (\" Alfredo Cornejo Cuevas won the world amateur welterweight title in Mexico City .\")\n",
        "    label = Predict ( fact_1 and fact_2 and fact_3 and fact_4 )\n",
        "  \"\"\"},\n",
        "\n",
        "  {\"claim\": \"\"\" # The claim is that The Footwork FA12 , which was intended to start the season , finally debuted at the San Marino Grand Prix , a Formula One motor race held at Imola on 28 April 1991.\"\"\",\n",
        "  \"program\": \"\"\"\n",
        "  def program ():\n",
        "    fact_1 = Verify (\" The Footwork FA12 , which was intended to start the season .\")\n",
        "    fact_2 = Verify (\" The Footwork FA12 finally debuted at the San Marino Grand Prix .\")\n",
        "    fact_3 = Verify (\" The San Marino Grand Prix was a Formula One motor race held at Imola on 28 April 1991. \")\n",
        "    label = Predict ( fact_1 and fact_2 and fact_3 )\n",
        "  \"\"\"}]\n",
        "\n",
        "  example_template = \"\"\"claim: {claim}\n",
        "program: {program}\"\"\"\n",
        "  prefix = \"\"\"Generate a python-like program that describes the reasoning steps required to verify the claim step-by-step . You can call three functions in the program : 1. Question () to answer a question ; 2. Verify () to verify a simple claim ; 3.Predict () to predict the veracity label . \"\"\"\n",
        "  suffix =\"\"\"claim: {claim}\"\"\"\n",
        "  example_prompt = PromptTemplate(input_variables = [\"claim\",\"program\"],template=example_template)\n",
        "\n",
        "  few_shot_prompt_template = FewShotPromptTemplate(\n",
        "      examples = examples,\n",
        "      example_prompt = example_prompt,\n",
        "      prefix = prefix,\n",
        "      suffix = suffix,\n",
        "      input_variables = [\"claim\"],\n",
        "      example_separator = \"\\n\\n\"\n",
        "  )\n",
        "\n",
        "  max_tokens_chat = 2000\n",
        "\n",
        "  llm = ChatOpenAI(temperature=0,model_name='gpt-3.5-turbo',max_tokens=max_tokens_chat)\n",
        "  from langchain.prompts.chat import (\n",
        "      ChatPromptTemplate,\n",
        "      SystemMessagePromptTemplate,\n",
        "      HumanMessagePromptTemplate,\n",
        "  )\n",
        "  template = ''\n",
        "  system_message_prompt = SystemMessagePromptTemplate.from_template(template)\n",
        "  human_template=\"{text}\"\n",
        "  human_message_prompt = HumanMessagePromptTemplate.from_template(human_template)\n",
        "  chat_prompt = ChatPromptTemplate.from_messages([system_message_prompt, human_message_prompt])\n",
        "  chain = LLMChain(llm=llm, prompt=chat_prompt)\n",
        "  answer = chain.run(text=few_shot_prompt_template.format(claim=claim_text))\n",
        "\n",
        "  return answer,few_shot_prompt_template.format(claim=claim_text)"
      ]
    },
    {
      "cell_type": "code",
      "execution_count": 4,
      "metadata": {
        "id": "9ePlstPF1RGc"
      },
      "outputs": [],
      "source": [
        "answer,input = few_shot_cot('# The claim is that Sumo wrestler Toyozakura Toshiaki committed match -fixing , ending his career in 2011 that started in 1989.')"
      ]
    },
    {
      "cell_type": "code",
      "execution_count": 5,
      "metadata": {
        "colab": {
          "base_uri": "https://localhost:8080/"
        },
        "id": "MESl9DIX1a8R",
        "outputId": "34151b94-ddea-4af8-8dcd-c0d8dea1e148"
      },
      "outputs": [
        {
          "name": "stdout",
          "output_type": "stream",
          "text": [
            "Generate a python-like program that describes the reasoning steps required to verify the claim step-by-step . You can call three functions in the program : 1. Question () to answer a question ; 2. Verify () to verify a simple claim ; 3.Predict () to predict the veracity label . \n",
            "\n",
            "claim:  # The claim is that In 1959 , former Chilean boxer Alfredo Cornejo Cuevas (born June 6, 1933) won the gold medal in the welterweight division at the Pan American Games (held in Chicago, United States, from August 27 to September 7) in Chicago, United States, and the world amateur welterweight title in Mexico City. \n",
            "program: \n",
            "  def program ():\n",
            "    fact_1 = Verify (\" Alfredo Cornejo Cuevas was born in June 6 , 1933. \")\n",
            "    fact_2 = Verify (\" Alfredo Cornejo Cuevas won the gold medal in the welterweight division at the Pan American Games in 1959. \")\n",
            "    fact_3 = Verify (\" The Pan American Games in 1959 was held in Chicago , United States , from August 27 to September 7.\")\n",
            "    fact_4 = Verify (\" Alfredo Cornejo Cuevas won the world amateur welterweight title in Mexico City .\")\n",
            "    label = Predict ( fact_1 and fact_2 and fact_3 and fact_4 )\n",
            "  \n",
            "\n",
            "claim:  # The claim is that The Footwork FA12 , which was intended to start the season , finally debuted at the San Marino Grand Prix , a Formula One motor race held at Imola on 28 April 1991.\n",
            "program: \n",
            "  def program ():\n",
            "    fact_1 = Verify (\" The Footwork FA12 , which was intended to start the season .\")\n",
            "    fact_2 = Verify (\" The Footwork FA12 finally debuted at the San Marino Grand Prix .\")\n",
            "    fact_3 = Verify (\" The San Marino Grand Prix was a Formula One motor race held at Imola on 28 April 1991. \")\n",
            "    label = Predict ( fact_1 and fact_2 and fact_3 )\n",
            "  \n",
            "\n",
            "claim: # The claim is that Sumo wrestler Toyozakura Toshiaki committed match -fixing , ending his career in 2011 that started in 1989.\n",
            " \n",
            "program: \n",
            "  def program ():\n",
            "    fact_1 = Verify (\" Toyozakura Toshiaki started his sumo wrestling career in 1989. \")\n",
            "    fact_2 = Verify (\" Toyozakura Toshiaki ended his sumo wrestling career in 2011. \")\n",
            "    fact_3 = Verify (\" Toyozakura Toshiaki was involved in match-fixing. \")\n",
            "    label = Predict ( fact_1 and fact_2 and fact_3 )\n"
          ]
        }
      ],
      "source": [
        "print(input)\n",
        "print(' ')\n",
        "print(answer)"
      ]
    },
    {
      "cell_type": "code",
      "execution_count": null,
      "metadata": {
        "id": "PZHfeYHrocJI"
      },
      "outputs": [],
      "source": []
    }
  ],
  "metadata": {
    "colab": {
      "provenance": []
    },
    "kernelspec": {
      "display_name": "Python 3",
      "name": "python3"
    },
    "language_info": {
      "name": "python"
    }
  },
  "nbformat": 4,
  "nbformat_minor": 0
}
