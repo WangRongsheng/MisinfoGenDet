{
  "cells": [
    {
      "cell_type": "code",
      "execution_count": 1,
      "metadata": {
        "colab": {
          "base_uri": "https://localhost:8080/"
        },
        "id": "pBuS4iINGjZN",
        "outputId": "952b765f-fb7c-4375-943e-311336df7466"
      },
      "outputs": [
        {
          "name": "stdout",
          "output_type": "stream",
          "text": [
            "Mounted at /content/drive\n"
          ]
        }
      ],
      "source": [
        "from google.colab import drive\n",
        "drive.mount('/content/drive')"
      ]
    },
    {
      "cell_type": "code",
      "execution_count": 2,
      "metadata": {
        "colab": {
          "base_uri": "https://localhost:8080/"
        },
        "id": "F4xdBifvyCxS",
        "outputId": "f37a632b-d149-4f80-aaa1-2ff59c3e1282"
      },
      "outputs": [
        {
          "name": "stdout",
          "output_type": "stream",
          "text": [
            "Collecting langchain\n",
            "  Downloading langchain-0.0.250-py3-none-any.whl (1.4 MB)\n",
            "\u001b[2K     \u001b[90m━━━━━━━━━━━━━━━━━━━━━━━━━━━━━━━━━━━━━━━━\u001b[0m \u001b[32m1.4/1.4 MB\u001b[0m \u001b[31m8.8 MB/s\u001b[0m eta \u001b[36m0:00:00\u001b[0m\n",
            "\u001b[?25hRequirement already satisfied: PyYAML>=5.4.1 in /usr/local/lib/python3.10/dist-packages (from langchain) (6.0.1)\n",
            "Requirement already satisfied: SQLAlchemy<3,>=1.4 in /usr/local/lib/python3.10/dist-packages (from langchain) (2.0.19)\n",
            "Requirement already satisfied: aiohttp<4.0.0,>=3.8.3 in /usr/local/lib/python3.10/dist-packages (from langchain) (3.8.5)\n",
            "Requirement already satisfied: async-timeout<5.0.0,>=4.0.0 in /usr/local/lib/python3.10/dist-packages (from langchain) (4.0.2)\n",
            "Collecting dataclasses-json<0.6.0,>=0.5.7 (from langchain)\n",
            "  Downloading dataclasses_json-0.5.14-py3-none-any.whl (26 kB)\n",
            "Collecting langsmith<0.1.0,>=0.0.11 (from langchain)\n",
            "  Downloading langsmith-0.0.18-py3-none-any.whl (31 kB)\n",
            "Requirement already satisfied: numexpr<3.0.0,>=2.8.4 in /usr/local/lib/python3.10/dist-packages (from langchain) (2.8.4)\n",
            "Requirement already satisfied: numpy<2,>=1 in /usr/local/lib/python3.10/dist-packages (from langchain) (1.22.4)\n",
            "Collecting openapi-schema-pydantic<2.0,>=1.2 (from langchain)\n",
            "  Downloading openapi_schema_pydantic-1.2.4-py3-none-any.whl (90 kB)\n",
            "\u001b[2K     \u001b[90m━━━━━━━━━━━━━━━━━━━━━━━━━━━━━━━━━━━━━━━━\u001b[0m \u001b[32m90.0/90.0 kB\u001b[0m \u001b[31m11.5 MB/s\u001b[0m eta \u001b[36m0:00:00\u001b[0m\n",
            "\u001b[?25hRequirement already satisfied: pydantic<2,>=1 in /usr/local/lib/python3.10/dist-packages (from langchain) (1.10.12)\n",
            "Requirement already satisfied: requests<3,>=2 in /usr/local/lib/python3.10/dist-packages (from langchain) (2.27.1)\n",
            "Requirement already satisfied: tenacity<9.0.0,>=8.1.0 in /usr/local/lib/python3.10/dist-packages (from langchain) (8.2.2)\n",
            "Requirement already satisfied: attrs>=17.3.0 in /usr/local/lib/python3.10/dist-packages (from aiohttp<4.0.0,>=3.8.3->langchain) (23.1.0)\n",
            "Requirement already satisfied: charset-normalizer<4.0,>=2.0 in /usr/local/lib/python3.10/dist-packages (from aiohttp<4.0.0,>=3.8.3->langchain) (2.0.12)\n",
            "Requirement already satisfied: multidict<7.0,>=4.5 in /usr/local/lib/python3.10/dist-packages (from aiohttp<4.0.0,>=3.8.3->langchain) (6.0.4)\n",
            "Requirement already satisfied: yarl<2.0,>=1.0 in /usr/local/lib/python3.10/dist-packages (from aiohttp<4.0.0,>=3.8.3->langchain) (1.9.2)\n",
            "Requirement already satisfied: frozenlist>=1.1.1 in /usr/local/lib/python3.10/dist-packages (from aiohttp<4.0.0,>=3.8.3->langchain) (1.4.0)\n",
            "Requirement already satisfied: aiosignal>=1.1.2 in /usr/local/lib/python3.10/dist-packages (from aiohttp<4.0.0,>=3.8.3->langchain) (1.3.1)\n",
            "Collecting marshmallow<4.0.0,>=3.18.0 (from dataclasses-json<0.6.0,>=0.5.7->langchain)\n",
            "  Downloading marshmallow-3.20.1-py3-none-any.whl (49 kB)\n",
            "\u001b[2K     \u001b[90m━━━━━━━━━━━━━━━━━━━━━━━━━━━━━━━━━━━━━━━━\u001b[0m \u001b[32m49.4/49.4 kB\u001b[0m \u001b[31m6.1 MB/s\u001b[0m eta \u001b[36m0:00:00\u001b[0m\n",
            "\u001b[?25hCollecting typing-inspect<1,>=0.4.0 (from dataclasses-json<0.6.0,>=0.5.7->langchain)\n",
            "  Downloading typing_inspect-0.9.0-py3-none-any.whl (8.8 kB)\n",
            "Requirement already satisfied: typing-extensions>=4.2.0 in /usr/local/lib/python3.10/dist-packages (from pydantic<2,>=1->langchain) (4.7.1)\n",
            "Requirement already satisfied: urllib3<1.27,>=1.21.1 in /usr/local/lib/python3.10/dist-packages (from requests<3,>=2->langchain) (1.26.16)\n",
            "Requirement already satisfied: certifi>=2017.4.17 in /usr/local/lib/python3.10/dist-packages (from requests<3,>=2->langchain) (2023.7.22)\n",
            "Requirement already satisfied: idna<4,>=2.5 in /usr/local/lib/python3.10/dist-packages (from requests<3,>=2->langchain) (3.4)\n",
            "Requirement already satisfied: greenlet!=0.4.17 in /usr/local/lib/python3.10/dist-packages (from SQLAlchemy<3,>=1.4->langchain) (2.0.2)\n",
            "Requirement already satisfied: packaging>=17.0 in /usr/local/lib/python3.10/dist-packages (from marshmallow<4.0.0,>=3.18.0->dataclasses-json<0.6.0,>=0.5.7->langchain) (23.1)\n",
            "Collecting mypy-extensions>=0.3.0 (from typing-inspect<1,>=0.4.0->dataclasses-json<0.6.0,>=0.5.7->langchain)\n",
            "  Downloading mypy_extensions-1.0.0-py3-none-any.whl (4.7 kB)\n",
            "Installing collected packages: mypy-extensions, marshmallow, typing-inspect, openapi-schema-pydantic, langsmith, dataclasses-json, langchain\n",
            "Successfully installed dataclasses-json-0.5.14 langchain-0.0.250 langsmith-0.0.18 marshmallow-3.20.1 mypy-extensions-1.0.0 openapi-schema-pydantic-1.2.4 typing-inspect-0.9.0\n",
            "Collecting openai\n",
            "  Downloading openai-0.27.8-py3-none-any.whl (73 kB)\n",
            "\u001b[2K     \u001b[90m━━━━━━━━━━━━━━━━━━━━━━━━━━━━━━━━━━━━━━━━\u001b[0m \u001b[32m73.6/73.6 kB\u001b[0m \u001b[31m1.2 MB/s\u001b[0m eta \u001b[36m0:00:00\u001b[0m\n",
            "\u001b[?25hRequirement already satisfied: requests>=2.20 in /usr/local/lib/python3.10/dist-packages (from openai) (2.27.1)\n",
            "Requirement already satisfied: tqdm in /usr/local/lib/python3.10/dist-packages (from openai) (4.65.0)\n",
            "Requirement already satisfied: aiohttp in /usr/local/lib/python3.10/dist-packages (from openai) (3.8.5)\n",
            "Requirement already satisfied: urllib3<1.27,>=1.21.1 in /usr/local/lib/python3.10/dist-packages (from requests>=2.20->openai) (1.26.16)\n",
            "Requirement already satisfied: certifi>=2017.4.17 in /usr/local/lib/python3.10/dist-packages (from requests>=2.20->openai) (2023.7.22)\n",
            "Requirement already satisfied: charset-normalizer~=2.0.0 in /usr/local/lib/python3.10/dist-packages (from requests>=2.20->openai) (2.0.12)\n",
            "Requirement already satisfied: idna<4,>=2.5 in /usr/local/lib/python3.10/dist-packages (from requests>=2.20->openai) (3.4)\n",
            "Requirement already satisfied: attrs>=17.3.0 in /usr/local/lib/python3.10/dist-packages (from aiohttp->openai) (23.1.0)\n",
            "Requirement already satisfied: multidict<7.0,>=4.5 in /usr/local/lib/python3.10/dist-packages (from aiohttp->openai) (6.0.4)\n",
            "Requirement already satisfied: async-timeout<5.0,>=4.0.0a3 in /usr/local/lib/python3.10/dist-packages (from aiohttp->openai) (4.0.2)\n",
            "Requirement already satisfied: yarl<2.0,>=1.0 in /usr/local/lib/python3.10/dist-packages (from aiohttp->openai) (1.9.2)\n",
            "Requirement already satisfied: frozenlist>=1.1.1 in /usr/local/lib/python3.10/dist-packages (from aiohttp->openai) (1.4.0)\n",
            "Requirement already satisfied: aiosignal>=1.1.2 in /usr/local/lib/python3.10/dist-packages (from aiohttp->openai) (1.3.1)\n",
            "Installing collected packages: openai\n",
            "Successfully installed openai-0.27.8\n"
          ]
        }
      ],
      "source": [
        "!pip install langchain\n",
        "!pip install openai\n",
        "from langchain.llms import OpenAI\n",
        "from langchain.chat_models import ChatOpenAI\n",
        "from langchain.prompts import PromptTemplate\n",
        "from langchain.chains import LLMChain\n",
        "from langchain import FewShotPromptTemplate\n",
        "from langchain.schema import(AIMessage,HumanMessage,SystemMessage)\n",
        "import os"
      ]
    },
    {
      "cell_type": "code",
      "execution_count": 3,
      "metadata": {
        "id": "DSot-U1bzREX"
      },
      "outputs": [],
      "source": [
        "os.environ['OPENAI_API_KEY'] = 'sorryToBeSecret'"
      ]
    },
    {
      "cell_type": "code",
      "execution_count": 4,
      "metadata": {
        "id": "b5DBuALgzaWN"
      },
      "outputs": [],
      "source": [
        "def few_shot_cot(claim_text):\n",
        "  examples = [\n",
        "  {\"claim\": \"\"\" # The claim is that Howard University Hospital and Providence Hospital are both located in Washington, D.C. \"\"\",\n",
        "    \"program\": \"\"\"\n",
        "    def program():\n",
        "        fact_1 = Verify(\"Howard University Hospital is located in Washington, D.C.\")\n",
        "        fact_2 = Verify(\"Providence Hospital is located in Washington, D.C.\")\n",
        "        label = Predict(fact_1 and fact_2)\n",
        "    \"\"\"},\n",
        "\n",
        "    {\"claim\": \"\"\" # The claim is that WWE Super Tuesday took place at an arena that currently goes by the name TD Garden. \"\"\",\n",
        "    \"program\": \"\"\"\n",
        "    def program():\n",
        "        answer_1 = Question(\"Which arena the WWE Super Tuesday took place?\")\n",
        "        fact_1 = Verify(f\"[answer_1] currently goes by the name TD Garden.\")\n",
        "        label = Predict(fact_1)\n",
        "    \"\"\"},\n",
        "\n",
        "    {\"claim\": \"\"\" # The claim is that Talking Heads, an American rock band that was \"one of the most critically acclaimed bands of the 80's\" is featured in KSPN's AAA format. \"\"\",\n",
        "    \"program\": \"\"\"\n",
        "    def program():\n",
        "        fact_1 = Verify(\"Talking Heads is an American rock band that was 'one of the most critically acclaimed bands of the 80's'.\")\n",
        "        fact_2 = Verify(\"Talking Heads is featured in KSPN's AAA format.\")\n",
        "        label = Predict(fact_1 and fact_2)\n",
        "    \"\"\"},\n",
        "\n",
        "    {\"claim\": \"\"\" # The claim is that An IndyCar race driver drove a Formula 1 car designed by Peter McCool during the 2007 Formula One season. \"\"\",\n",
        "    \"program\": \"\"\"\n",
        "    def program():\n",
        "        answer_1 = Question(\"Which Formula 1 car was designed by Peter McCool during the 2007 Formula One season?\")\n",
        "        fact_1 = Verify(f\"An IndyCar race driver drove the car [answer_1].\")\n",
        "        label = Predict(fact_1)\n",
        "    \"\"\"},\n",
        "\n",
        "    {\"claim\": \"\"\" # The claim is that Gina Bramhill was born in a village. The 2011 population of the area that includes this village was 167,446. \"\"\",\n",
        "    \"program\": \"\"\"\n",
        "    def program():\n",
        "        answer_1 = Question(\"Which village was Gina Bramhill born in?\")\n",
        "        fact_1 = Verify(f\"The 2011 population of the area that includes [answer_1] was 167,446.\")\n",
        "        label = Predict(fact_1)\n",
        "    \"\"\"},\n",
        "\n",
        "    {\"claim\": \"\"\" # The claim is that Don Ashley Turlington graduated from Saint Joseph's College, a private Catholic liberal arts college in Standish. \"\"\",\n",
        "    \"program\": \"\"\"\n",
        "    def program():\n",
        "        fact_1 = Verify(\"Saint Joseph's College is a private Catholic liberal arts college is located in Standish.\")\n",
        "        fact_2 = Verify(f\"Don Ashley Turlington graduated from Saint Joseph's College.\")\n",
        "        label = Predict(fact_1 and fact_2)\n",
        "    \"\"\"},\n",
        "\n",
        "    {\"claim\": \"\"\" # The claim is that Gael and Fitness are not published in the same country. \"\"\",\n",
        "    \"program\": \"\"\"\n",
        "    def program():\n",
        "        answer_1 = Question(\"Which country was Gael published in?\")\n",
        "        answer_2 = Question(\"Which country was Fitness published in?\")\n",
        "        fact_1 = Verify(f\"[answer_1] and [answer_2] are not the same country.\")\n",
        "        label = Predict(fact_1)\n",
        "    \"\"\"},\n",
        "\n",
        "    {\"claim\": \"\"\" # The claim is that Blackstar is the name of the album released by David Bowie that was recorded in secret. \"\"\",\n",
        "    \"program\": \"\"\"\n",
        "    def program():\n",
        "        fact_1 = Verify(\"David Bowie released an album called Blackstar.\")\n",
        "        fact_2 = Verify(\"David Bowie recorded an album in secret.\")\n",
        "        label = Predict(fact_1 and fact_2)\n",
        "    \"\"\"},\n",
        "\n",
        "    {\"claim\": \"\"\" # The claim is that In the 2004 Hockey film produced by a former major league baseball pitcher Kurt Russell played the USA coach. \"\"\",\n",
        "    \"program\": \"\"\"\n",
        "    def program():\n",
        "        answer_1 = Question(\"Which 2004 Hockey film was produced a former major league baseball pitcher?\")\n",
        "        fact_1 = Verify(\"Kurt Russell played the USA coach in the film [answer_1].\")\n",
        "        label = Predict(fact_1)\n",
        "    \"\"\"},\n",
        "\n",
        "    {\"claim\": \"\"\" # The claim is that Along with the New York Islanders and the New York Rangers, the New Jersey Devils NFL franchise is popular in the New York metropolitan area. \"\"\",\n",
        "    \"program\": \"\"\"\n",
        "    def program():\n",
        "        fact_1 = Verify(\"The New York Islanders and the New York Rangers are popular in the New York metropolitan area.\")\n",
        "        fact_2 = Verify(\"The New Jersey Devils NFL franchise is popular in the New York metropolitan area.\")\n",
        "        label = Predict(fact_1 and fact_2)\n",
        "    \"\"\"},\n",
        "\n",
        "    {\"claim\": \"\"\" # The claim is that Jack McFarland is the best known role of the host of the 64th Annual Tony Awards. \"\"\",\n",
        "    \"program\": \"\"\"\n",
        "    def program():\n",
        "        answer_1 = Question(\"Who is the host of the 64th Annual Tony Awards?\")\n",
        "        fact_1 = Verify(f\\\"Jack McFarland is the best known role of [answer_1].)\n",
        "        label = Predict(fact_1)\n",
        "    \"\"\"},\n",
        "\n",
        "    {\"claim\": \"\"\" # The claim is that The song recorded by Fergie that was produced by Polow da Don and was followed by Life Goes On was M.I.L.F.$. \"\"\",\n",
        "    \"program\": \"\"\"\n",
        "    def program():\n",
        "        fact_1 = Verify(\"M.I.L.F.$ was recorded by Fergie that was produced by Polow da Don.\")\n",
        "        fact_2 = Verify(\"M.I.L.F.$ was was followed by Life Goes On.\")\n",
        "        label = Predict(fact_1 and fact_2)\n",
        "    \"\"\"},\n",
        "\n",
        "    {\"claim\": \"\"\" # The claim is that Eatza Pizza and Your Pie were not founded in the same state. \"\"\",\n",
        "    \"program\": \"\"\"\n",
        "    def program():\n",
        "        answer_1 = Question(\"Which state was Eatza Pizza founded in?\")\n",
        "        answer_2 = Question(\"Which state was Your Pie founded in?\")\n",
        "        fact_1 = Verify(f\"[answer_1] and [answer_2] are not the same state.\")\n",
        "        label = Predict(fact_1)\n",
        "    \"\"\"},\n",
        "\n",
        "    {\"claim\": \"\"\" # The claim is that Gregg Rolie and Rob Tyner, are not a keyboardist. \"\"\",\n",
        "    \"program\": \"\"\"\n",
        "    def program():\n",
        "        fact_1 = Verify(\"Gregg Rolie is not a keyboardist.\")\n",
        "        fact_2 = Verify(\"Rob Tyner is not a keyboardist.\")\n",
        "        label = Predict(fact_1 and fact_2)\n",
        "    \"\"\"},\n",
        "\n",
        "    {\"claim\": \"\"\" # The claim is that Maria Esther Andion Bueno, not Jimmy Connors, is the player that is from Brazil. \"\"\",\n",
        "    \"program\": \"\"\"\n",
        "    def program():\n",
        "        fact_1 = Verify(\"Maria Esther Andion Bueno is from Brazil.\")\n",
        "        fact_2 = Verify(\"Jimmy Connors is not from Brazil.\")\n",
        "        label = Predict(fact_1 and fact_2)\n",
        "    \"\"\"},\n",
        "\n",
        "    {\"claim\": \"\"\" # The claim is that Vladimir Igorevich Arnold died after Georg Cantor. \"\"\",\n",
        "    \"program\": \"\"\"\n",
        "    def program():\n",
        "        answer_1 = Question(\"When did Vladimir Igorevich Arnold die?\")\n",
        "        answer_2 = Question(\"When did Georg Cantor die?\")\n",
        "        fact_1 = Verify(f\"[answer_1] is after [answer_2].\")\n",
        "        label = Predict(fact_1)\n",
        "    \"\"\"},\n",
        "\n",
        "    {\"claim\": \"\"\" # The claim is that Barton Mine was halted by a natural disaster not Camlaren Mine. \"\"\",\n",
        "    \"program\": \"\"\"\n",
        "    def program():\n",
        "        fact_1 = Verify(\"Barton Mine was halted by a natural disaster.\")\n",
        "        fact_2 = Verify(\"Camlaren Mine was not halted by a natural disaster.\")\n",
        "        label = Predict(fact_1 and fact_2)\n",
        "    \"\"\"}\n",
        "\n",
        "#     {\"claim\": \"\"\" # The claim is that John O'Hara and Rabindranath Tagore are not the same nationality. \"\"\",\n",
        "#     \"program\": \"\"\"\n",
        "#     def program():\n",
        "#         answer_1 = Question(\"What is the nationality of John O'Hara?\")\n",
        "#         answer_2 = Question(\"What is the nationality of Rabindranath Tagore?\")\n",
        "#         fact_1 = Verify(f\"[answer_1] and [answer_2] are not the same nationality.\")\n",
        "#         label = Predict(fact_1)\n",
        "#     \"\"\"},\n",
        "\n",
        "#     {\"claim\": \"\"\" # The claim is that Thomas Loren Friedman has won more Pulitzer Prizes than Colson Whitehead. \"\"\",\n",
        "#     \"program\": \"\"\"\n",
        "#     def program():\n",
        "#         answer_1 = Question(\"How many Pulitzer Prizes has Thomas Loren Friedman won?\")\n",
        "#         answer_2 = Question(\"How many Pulitzer Prizes has Colson Whitehead won?\")\n",
        "#         fact_1 = Verify(f\"[answer_1] is more than [answer_2].\")\n",
        "#         label = Predict(fact_1)\n",
        "#     \"\"\"},\n",
        "\n",
        "#     {\"claim\": \"\"\" # The claim is that The model of car Trevor Bayne drives was introduced for model year 2006. The Rookie of The Year in the 1997 CART season drives it in the NASCAR Sprint Cup. \"\"\",\n",
        "#     \"program\": \"\"\"\n",
        "#     def program():\n",
        "#         answer_1 = Question(\"Which model of car is drived by Trevor Bayne?\")\n",
        "#         fact_1 = Verify(f\"[answer_1] was introduced for model year 2006.\")\n",
        "#         answer_2 = Question(\"Who is the Rookie of The Year in the 1997 CART season?\")\n",
        "#         fact_2 = Verify(f\"[answer_2] drives the model of car Trevor Bayne drives in the NASCAR Sprint Cup.\")\n",
        "#         label = predict(fact_1 and fact_2)\n",
        "#     \"\"\"},\n",
        "\n",
        "#   {\"claim\": \"\"\" # The claim is that In 1959 , former Chilean boxer Alfredo Cornejo Cuevas (born June 6, 1933) won the gold medal in the welterweight division at the Pan American Games (held in Chicago, United States, from August 27 to September 7) in Chicago, United States, and the world amateur welterweight title in Mexico City. \"\"\",\n",
        "#   \"program\": \"\"\"\n",
        "#   def program ():\n",
        "#     fact_1 = Verify (\" Alfredo Cornejo Cuevas was born in June 6 , 1933. \")\n",
        "#     fact_2 = Verify (\" Alfredo Cornejo Cuevas won the gold medal in the welterweight division at the Pan American Games in 1959. \")\n",
        "#     fact_3 = Verify (\" The Pan American Games in 1959 was held in Chicago , United States , from August 27 to September 7.\")\n",
        "#     fact_4 = Verify (\" Alfredo Cornejo Cuevas won the world amateur welterweight title in Mexico City .\")\n",
        "#     label = Predict ( fact_1 and fact_2 and fact_3 and fact_4 )\n",
        "#   \"\"\"},\n",
        "\n",
        "#   {\"claim\": \"\"\" # The claim is that The Footwork FA12 , which was intended to start the season , finally debuted at the San Marino Grand Prix , a Formula One motor race held at Imola on 28 April 1991.\n",
        "#   \"\"\",\n",
        "#   \"program\": \"\"\"\n",
        "#   def program ():\n",
        "#     fact_1 = Verify (\" The Footwork FA12 , which was intended to start the season .\")\n",
        "#     fact_2 = Verify (\" The Footwork FA12 finally debuted at the San Marino Grand Prix .\")\n",
        "#     fact_3 = Verify (\" The San Marino Grand Prix was a Formula One motor race held at Imola on 28 April 1991. \")\n",
        "#     label = Predict ( fact_1 and fact_2 and fact_3 )\n",
        "#   \"\"\"},\n",
        "\n",
        "#     {\"claim\": \"\"\" # The claim is that SkyHigh Mount Dandenong (formerly Mount Dandenong Observatory) is a restaurant located on top of Mount Dandenong, Victoria, Australia. \"\"\",\n",
        "#   \"program\": \"\"\"\n",
        "# def program():\n",
        "#     fact_1 = Verify(\"SkyHigh Mount Dandenong is a restaurant located on top of Mount Dandenong, Victoria, Australia.\")\n",
        "#     fact_2 = Verify(\"SkyHigh Mount Dandenong is formerly known as Mount Dandenong Observatory.\")\n",
        "#     label = Predict(fact_1 and fact_2)\n",
        "#   \"\"\"},\n",
        "\n",
        "#       {\"claim\": \"\"\"# The claim is that Before the first Europeans arrived or copra companies leased it, Maupihaa was home to Inca's in ancient times. \"\"\",\n",
        "#   \"program\": \"\"\"\n",
        "# def program():\n",
        "#     fact_1 = Verify(\"Maupihaa was home to Inca's in ancient times.\")\n",
        "#     fact_2 = Verify(\"Maupihaa was home to Inca's before the first Europeans arrived or copra companies leased it.\")\n",
        "#     label = Predict(fact_1 and fact_2)\n",
        "#   \"\"\"},\n",
        "\n",
        "#       {\"claim\": \"\"\"# The claim is that Shulin, a 33.1288 km (12.7911 sq mi) land located in New Taipei City, China, a country in East Asia, has a total population of 183,946 in December 2018.\"\"\",\n",
        "#   \"program\": \"\"\"\n",
        "# def program():\n",
        "#     fact_1 = Verify(\"Shulin is a 33.1288 km (12.7911 sq mi) land located in New Taipei City, China.\")\n",
        "#     fact_2 = Verify(\"Shulin has a total population of 183,946 in December 2018.\")\n",
        "#     label = Predict(fact_1 and fact_2)\n",
        "#   \"\"\"},\n",
        "\n",
        "#       {\"claim\": \"\"\"\n",
        "#       # The claim is that Sumo wrestler Toyozakura Toshiaki committed match-fixing, ending his career in 2011 that started in 1989.\n",
        "#       \"\"\",\n",
        "#   \"program\": \"\"\"\n",
        "# def program():\n",
        "#     fact_1 = Verify(\"Toyozakura Toshiaki ended his career in 2011 that started in 1989.\")\n",
        "#     fact_2 = Verify(\"Toyozakura Toshiaki is a Sumo wrestler.\")\n",
        "#     fact_3 = Verify(\"Toyozakura Toshiaki committed match-fixing.\")\n",
        "#     label = Predict(fact_1 and fact_2 and fact_3)\n",
        "#   \"\"\"},\n",
        "\n",
        "#         {\"claim\": \"\"\"\n",
        "#       # The claim is that In 1959, former Chilean boxer Alfredo Cornejo Cuevas (born June 6, 1933) won the gold medal in the welterweight division at the Pan American Games (held in Chicago, United States, from August 27 to September 7) in Chicago, United States, and the world amateur welterweight title in Mexico City.\n",
        "#       \"\"\",\n",
        "#   \"program\": \"\"\"\n",
        "# def program():\n",
        "#     fact_1 = Verify(\"Alfredo Cornejo Cuevas is a former Chilean boxer.\")\n",
        "#     fact_2 = Verify(\"Alfredo Cornejo won the gold medal in the welterweight division at the Pan American Games.\")\n",
        "#     fact_3 = Verify(\"The Pan American Games was held in Chicago, United States, from August 27 to September 7.\")\n",
        "#     fact_4 = Verify(\"Alfredo Cornejo won the world amateur welterweight title in Mexico City.\")\n",
        "#     label = Predict(fact_1 and fact_2 and fact_3 and fact_4)\n",
        "#   \"\"\"},\n",
        "#         {\"claim\": \"\"\"\n",
        "#       # The claim is that Adductor hiatus is associated with nine structures, seven of which enter and leave through hiatus.\n",
        "#       \"\"\",\n",
        "#   \"program\": \"\"\"\n",
        "# def program():\n",
        "#     fact_1 = Verify(\"Adductor hiatus is associated with nine structures.\")\n",
        "#     fact_2 = Verify(\"Seven of the nine structures associated with Adductor hiatus enter and leave through hiatus.\")\n",
        "#     label = Predict(fact_1 and fact_2)\n",
        "#   \"\"\"},\n",
        "#           {\"claim\": \"\"\"\n",
        "#       # The claim is that Ifor Bowen Lloyd was educated at Winchester (an independent boarding school for boys in the British public school tradition) and Exeter College, Oxford where he was a member of the Library Committee of the Oxford Union Society, as well as, received a BA in Modern History in 1924.\n",
        "#       \"\"\",\n",
        "#   \"program\": \"\"\"\n",
        "# def program():\n",
        "#     fact_1 = Verify(\"Ifor Bowen Lloyd was educated at Winchester and Exeter College, Oxford.\")\n",
        "#     fact_2 = Verify(\"Winchester is an independent boarding school for boys in the British public school tradition.\")\n",
        "#     fact_3 = Verify(\"While at Oxford, Ifor Bowen Lloyd was a member of the Library Committee of the Oxford Union Society.\")\n",
        "#     fact_4 = Verify(\"Ifor Bowen Lloyd received a BA in Modern History in 1924 at Oxford.\")\n",
        "#     label = Predict(fact_1 and fact_2 and fact_3 and fact_4)\n",
        "#   \"\"\"},\n",
        "#           {\"claim\": \"\"\"\n",
        "#       # The claim is that In the 2001 Stanley Cup playoffs Eastern Conference Semifinals Devils' Elias scored and Maple Leafs' left Devils player Scott Neidermayer hurt.\n",
        "#       \"\"\",\n",
        "#   \"program\": \"\"\"\n",
        "# def program():\n",
        "#     fact_1 = Verify(\"In the 2001 Stanley Cup playoffs Eastern Conference Semifinals Devils' Elias scored.\")\n",
        "#     fact_2 = Verify(\"Maple Leafs' left Devils player Scott Neidermayer hurt.\")\n",
        "#     label = Predict(fact_1 and fact_2)\n",
        "#   \"\"\"},\n",
        "#           {\"claim\": \"\"\"\n",
        "#       # The claim is that Teldenia helena is a moth first described in 1967 by Wilkinson.\n",
        "#       \"\"\",\n",
        "#   \"program\": \"\"\"\n",
        "# def program():\n",
        "#     fact_1 = Verify(\"Teldenia helena is a moth.\")\n",
        "#     fact_2 = Verify(\"Teldenia helena was first described by Wilkinson in 1967.\")\n",
        "#     label = Predict(fact_1 and fact_2)\n",
        "#   \"\"\"},\n",
        "#           {\"claim\": \"\"\"\n",
        "#       # The claim is that Born December 30, 1974, William Frick was a dark horse candidate in the Maryland House of Delegates appointment process.\n",
        "#       \"\"\",\n",
        "#   \"program\": \"\"\"\n",
        "# def program():\n",
        "#     fact_1 = Verify(\"William Frick was born in December 30, 1974.\")\n",
        "#     fact_2 = Verify(\"William Frick was a dark horse candidate in the Maryland House of Delegates appointment process.\")\n",
        "#     label = Predict(fact_1 and fact_2)\n",
        "#   \"\"\"}\n",
        "  ]\n",
        "\n",
        "  example_template = \"\"\"claim: {claim}\n",
        "program: {program}\"\"\"\n",
        "  prefix = \"\"\"Only generate a python-like program that describes the reasoning steps required to verify the claim step-by-step . You can call three functions in the program : 1. Question () to answer a question ; 2. Verify () to verify a simple claim ; 3.Predict () to predict the veracity label . \"\"\"\n",
        "  suffix =\"\"\"claim: {claim}\"\"\"\n",
        "  example_prompt = PromptTemplate(input_variables = [\"claim\",\"program\"],template=example_template)\n",
        "\n",
        "  few_shot_prompt_template = FewShotPromptTemplate(\n",
        "      examples = examples,\n",
        "      example_prompt = example_prompt,\n",
        "      prefix = prefix,\n",
        "      suffix = suffix,\n",
        "      input_variables = [\"claim\"],\n",
        "      example_separator = \"\\n\\n\"\n",
        "  )\n",
        "\n",
        "  max_tokens_chat = 2000\n",
        "\n",
        "  llm = ChatOpenAI(temperature=0.7,model_name='gpt-3.5-turbo',max_tokens=max_tokens_chat)\n",
        "  from langchain.prompts.chat import (\n",
        "      ChatPromptTemplate,\n",
        "      SystemMessagePromptTemplate,\n",
        "      HumanMessagePromptTemplate,\n",
        "  )\n",
        "  template = ''\n",
        "  system_message_prompt = SystemMessagePromptTemplate.from_template(template)\n",
        "  human_template=\"{text}\"\n",
        "  human_message_prompt = HumanMessagePromptTemplate.from_template(human_template)\n",
        "  chat_prompt = ChatPromptTemplate.from_messages([system_message_prompt, human_message_prompt])\n",
        "  chain = LLMChain(llm=llm, prompt=chat_prompt)\n",
        "  answer = chain.run(text=few_shot_prompt_template.format(claim=claim_text))\n",
        "\n",
        "  return answer,few_shot_prompt_template.format(claim=claim_text)"
      ]
    },
    {
      "cell_type": "code",
      "execution_count": 5,
      "metadata": {
        "id": "DAj-cpGJGbfp"
      },
      "outputs": [],
      "source": [
        "# 文本的交并集\n",
        "def Jaccard(v1,v2):\n",
        "    v1=set(v1)\n",
        "    v2=set(v2)\n",
        "    up=v1.intersection(v2)\n",
        "    down=v1.union(v2)\n",
        "    jaccard=1.0*len(up)/len(down)\n",
        "    return jaccard"
      ]
    },
    {
      "cell_type": "code",
      "execution_count": 6,
      "metadata": {
        "colab": {
          "base_uri": "https://localhost:8080/"
        },
        "id": "H2Sv8qx8QbEb",
        "outputId": "77bfe152-2902-4aee-a246-87109c697d85"
      },
      "outputs": [
        {
          "name": "stdout",
          "output_type": "stream",
          "text": [
            "第一个文件中的context:\n",
            "['The song recorded by Fergie that was produced by Polow da Don and was followed by Life Goes On was M.I.L.F.$.', 'Stephen King wrote the novel that the movie directed by Stanley Kubrick that was sampled in the album \"Where Blood and Fire Bring Rest\" was based on.', 'Greater Swiss Mountain Dog and Harrier are both dog breeds.', \"No One's Gonna Love You appeared in the Ruben Fleischer film Zombieland.\", 'Before I Go to Sleep stars an Australian actress, producer and occasional singer.', 'Marko Dmitrović  is a player in the La Liga league.', 'Eatza Pizza and Your Pie were not founded in the same state .', 'Carnegie Hall Tower is located in the same city as Staten Island.', 'The star of the Irish film directed by Paddy Breathnach played Marcus Agrippa in the HBO drama series \"Rome\".', 'Gregg Rolie and Rob Tyner, are not a keyboardist.', '\"Clydebuilt\" is on the south bank of the River Clyde.', 'Jack McFarland is the best known role of the host of the 64th Annual Tony Awards .', \"Martin O'Neill replaced the manager of the Aston Villa that began at Aston Villa Football Club.\", 'The 2014 All-Pac-12 Conference football team featured players from the team led by second-year head coach Mark Helfrich, who led his team to the conference title.', 'The historical Nimavar school in the Nimavar Bazaar, or bazar, is located in Iran.', 'Elzie Crisler Segar created the character of whom Captain Strong is a parody.', 'The prison holding one of the two arrestees in the 18 September 2014 counter-terrorism raid opened in the year 2001.', 'The Kentucky Department of Corrections is headquarted along the Kentucky River.', 'Stephanie Caroline March is the American actress that stars in the movie \"Innocesnce\" and is best known for her role as Alexandra Cabot in a long-running NBC series.', 'The person who has a wider scope of profession between José Echegaray and Graham Swift is José Echegaray.', \"Sian Gibson co-wrote the British sitcom Peter Kay's Car Share, set around a supermarket and car share scheme.\", \"Smith worked on the series The Handmaid's Tale that is based on a novel by Margaret Atwood.\", \"The Potomac River runs along the neighborhood where Ashley Estates Kavanaugh's wedding was held.\", 'The Swan of Catania was taught by the Italian composer Giovanni Furno.', 'Jimmy Garcia lost by unanimous decision to a professional boxer that challenged for the WBO lightweight title in 1995.', \"The French singer-songwriter, musician, actress and model, who's live album is Divinidylle Tour, was born on 22 December 1972.\", 'Superdrag and Collective Soul are both rock bands.', 'The Burlington Mall is a large, two-story, indoor shopping mall complex located off Route 3 and Route 128 in Burlington, Massachusetts, the mall is one of many shopping venues in the Middlesex County area, including Square One Mall, a 115 store shopping mall located along US Route 1 (Broadway) between Main Street and Essex Street in Saugus, Massachusetts.', 'Pablo Jose Ozuna is the cousin of a Dominican professional baseball left fielder who made his MLB debut in 2013.', 'Judge Aaron Persky rendered the verdict in People v. Turner case  filed in Santa Clara County Superior Court.', 'Both the Battle of Saipan and the Battle of Manila were fought by American forces.', 'There is fruit juice in both a Fizz and a Painkiller cocktail.', 'Arthur Noss was a gunner for the commader during the two European theatre battles Battle of Britain and the Battle of Malta in WWII.', 'Poor old Lu, and not Shudder to Think, is a band that is  considered \"one of the most accomplished and creative American bands of the \\'90s\".', 'Vladimir Igorevich Arnold died after Georg Cantor.', 'The South African record producer DJ Maphorisa collaborated with a contemporary Canadian Rapper on the song \"One Dance\".', \"British band The Wanted's third album includes a song with a title about Barbadian superstar Rihanna.\", 'Reimar Horten helped initially design the Gotha Go 229 and later died in Argentina in 1994.', 'The high security prison holding one of the two arrestees in the 18 September 2014 counter-terrorism raid opened in the year 2001.', 'Qutebrowser uses DuckDuckGo to emphasize returning the best results.', 'Carrie Coon plays Margo Dunne in a 2014 film set in Missouri.', 'Jacob \"Jack\" Kevorkian is best known for publicly championing a terminal patient\\'s right to die via physician-assisted suicide, not Christy Canyon.', 'Underfist: Halloween Bash was going to be the setup for a new series spin-off but the contract expired with a cable and television station that was launched on October 1, 19962 by  Betty Cohen.', 'The song by English indie rock band Florence and the Machine written by Florence Welch and Francis \"Eg\" White and released in 2011 in named after the painting which was completed in 1938.', 'Zamalek Sporting Club Centennial was a friendly match against professional football club that plays in La Liga.', 'Carvedilol is a non-selective betablocker used to treat congestive heart failure.', 'The first Russian composer to make a lasting impression internationally was Pyotr Ilyich Tchaikovsky not Alessandro Scarlatti.', 'Robert A. Iger, the former president of ABC television is a high ranking officer in the same company as Christine Mccarthy.', 'The international arms smuggler who was the subject of the 2014 documentary film \"The Notorious Mr. Bout\" was born in the year 1967.', 'Nell Gwyn, the long-time mistress of King Charles II of England occupied a townhouse in Pall Mall, London.']\n",
            "\n",
            "第二个文件中的context:\n",
            "['The song recorded by Britney Spears that was produced by Max Martin and was followed by Toxic was Oops!... I Did It Again.', 'H.G. Wells wrote the novel that the movie directed by Alfred Hitchcock that was sampled in the album \"Where Blood and Fire Bring Rest\" was based on.', 'Pomeranian and Dalmatian are both dog breeds.', \"《No One's Gonna Love You》出现在导演鲁本·弗莱彻的电影《僵尸乐园》中。\", 'Before I Go to Sleep stars a Maltese actor, director and occasional dancer.', 'Marko Dmitrović is a player in the Major League Baseball league.', \"Dominos Pizza and Papa John's were not founded in the same state.\", 'Carnegie Hall Tower is located in the same city as Mount Everest.', 'The star of the Irish film directed by Paddy Breathnach played Julius Caesar in the HBO drama series \"Rome\".', 'Gregg Rolie and Rob Tyner, are not renowned keyboardists.', '\"Clydebuilt\" is on the north bank of the River Clyde.', 'Jane Smith is the best known role of the host of the 78th Annual Tony Awards.', 'J.K. Rowling replaced the manager of the Hogwarts School of Witchcraft and Wizardry that began at Hogwarts School of Witchcraft and Wizardry.', 'The 2022 All-Pac-12 Conference football team featured players from the team led by eighth-year head coach John Smith, who led his team to the conference title.', '在伊朗的尼玛瓦尔集市，或巴扎，有一个虚构的尼玛瓦尔学校。', 'Elzie Crisler Segar created the character of whom Popeye the Sailor is a parody.', 'The prison holding both of the two arrestees in the 18 September 2014 counter-terrorism raid closed in the year 2020.', 'The Kentucky Department of Corrections is headquartered along the Mississippi River.', 'Stephanie Caroline March is the American actress that stars in the movie \"Innocence\" and is best known for her role as Alexandra Cabot in a long-running NBC series.\\n\\n改写后的虚假信息：Stephanie Caroline March is the American actress that stars in the movie \"Deception\" and is best known for her role as Olivia Benson in a long-running NBC series.', 'José Echegaray is the person who has a narrower scope of profession compared to Graham Swift.', \"Sian Gibson co-wrote the British sitcom Jodie Foster's Car Share, set around a shopping mall and bike-sharing scheme.\", \"Smith worked on the series The Handmaid's Tale that is based on a novel by J.K. Rowling.\", \"The Mississippi River runs along the neighborhood where Ashley Estates Kavanaugh's wedding was held.\", 'The Swan of Catania was taught by the Italian composer Luigi Verdi.', 'Jimmy Garcia won by unanimous decision against a professional boxer that challenged for the WBO lightweight title in 1995.', \"The German singer-songwriter, musician, actress and model, who's live album is Divinidylle Tour, was born on 22 December 1985.\", 'The Beatles and Led Zeppelin are both rock bands.', 'The Burlington Mall is a small, one-story, outdoor shopping mall complex located off Route 3 and Route 128 in Burlington, Massachusetts, the mall is one of few shopping venues in the Middlesex County area, including Square One Mall, a 50 store shopping mall located along US Route 1 (Broadway) between Main Street and Essex Street in Saugus, Massachusetts.', 'Pablo Jose Ozuna is the cousin of a fictional Dominican professional soccer midfielder who made his MLS debut in 2013.', 'Judge Aaron Persky rendered the verdict in People v. Turner case filed in Santa Clara County Superior Court.\\n\\n改写后的句子可以是：Judge John Smith rendered the verdict in People v. Thompson case filed in Santa Clara County Superior Court.', 'Both the Battle of Saipan and the Battle of Manila were fought by Martian forces.', 'There is coffee in both a Fizz and a Painkiller cocktail.', 'Arthur Noss was a chef for the commander during the two European theatre battles Battle of Britain and the Battle of Malta in WWII.', '富有的老Lu，而不是Shudder to Think，是一支被誉为“90年代最杰出和富有创造力的美国乐队之一”的乐队。', 'Vladimir Igorevich Arnold died before Georg Cantor.', 'The North Korean record producer DJ Maphorisa collaborated with a legendary Mexican Rapper on the song \"Gangnam Style\".', \"British band The Wanted's tenth album includes a song with a title about Italian superstar Andrea Bocelli.\", 'Hermann Göring helped initially design the Horten Ho 229 and later died in Argentina in 1950.', 'The low security prison holding one of the two arrestees in the 18 September 2014 fashion show opened in the year 1999.', 'Qutebrowser uses Baidu to emphasize returning the best results.', 'Carrie Coon plays Amy Dunne in a 2016 film set in Tennessee.', 'Christy Canyon is best known for publicly championing a terminal patient\\'s right to die via physician-assisted suicide, not Jacob \"Jack\" Kevorkian.', 'Underfist: Halloween Bash was going to be the setup for a new series spin-off but the contract expired with a cable and television station that was launched on October 1, 2022 by  John Smith.', 'The song by French heavy metal band Metallica written by James Hetfield and Lars Ulrich and released in 1981 is named after the painting which was completed in 1875.', 'Zamalek Sporting Club Centennial was a friendly match against a professional football club that plays in the Chinese Super League.', 'Carvedilol is a selective betablocker used to treat congestive heart failure.', 'The first Russian composer to make a lasting impression internationally was Alessandro Scarlatti not Pyotr Ilyich Tchaikovsky.', 'Robert A. Iger, the former president of ABC television, is a low-ranking intern in the same company as Christine McCarthy.', '在2014年的纪录片《臭名昭著的邦特先生》中，1967年出生的国际毒品走私犯成为了主角。', 'Nell Gwyn, the long-time mistress of King Charles II of England occupied a castle in Pall Mall, London.']\n"
          ]
        }
      ],
      "source": [
        "import json\n",
        "\n",
        "# 人类文本\n",
        "with open('/content/drive/My Drive/HOVER_supports_dev.json', 'r') as file1:\n",
        "    data1 = json.load(file1)\n",
        "\n",
        "# 机器文本\n",
        "with open('/content/drive/My Drive/HOVER_supports_dev_fake.json', 'r') as file2:\n",
        "    data2 = json.load(file2)\n",
        "\n",
        "context_list_1 = [item['context'] for item in data1]\n",
        "context_list_2 = [item['context'] for item in data2]\n",
        "\n",
        "\n",
        "print(\"第一个文件中的context:\")\n",
        "print(context_list_1)\n",
        "\n",
        "print(\"\\n第二个文件中的context:\")\n",
        "print(context_list_2)\n"
      ]
    },
    {
      "cell_type": "code",
      "execution_count": 7,
      "metadata": {
        "colab": {
          "base_uri": "https://localhost:8080/"
        },
        "id": "SOmvr7xUjG34",
        "outputId": "5d29d45c-e982-41eb-bdbc-db1fe27c023e"
      },
      "outputs": [
        {
          "name": "stdout",
          "output_type": "stream",
          "text": [
            "50\n",
            "50\n",
            "<class 'str'>\n"
          ]
        }
      ],
      "source": [
        "print(len(context_list_1))\n",
        "print(len(context_list_2))\n",
        "print(type(context_list_1[0]))"
      ]
    },
    {
      "cell_type": "code",
      "execution_count": 9,
      "metadata": {
        "id": "XiCmyGmWjRoo"
      },
      "outputs": [],
      "source": [
        "sim=[]\n",
        "result1=[]\n",
        "result2=[]\n",
        "for i in range (len(context_list_1)):\n",
        "  ans_h,input_h = few_shot_cot('# The claim is that'+context_list_1[i])\n",
        "  ans_m,input_m = few_shot_cot('# The claim is that'+context_list_2[i])\n",
        "  result1.append(ans_h)\n",
        "  result2.append(ans_m)\n",
        "  sim.append(Jaccard(ans_h,ans_m))"
      ]
    },
    {
      "cell_type": "code",
      "execution_count": 10,
      "metadata": {
        "colab": {
          "base_uri": "https://localhost:8080/"
        },
        "id": "6wDtatJPo6gT",
        "outputId": "bdd3c5c4-96eb-4c71-eb96-dfc278b39089"
      },
      "outputs": [
        {
          "name": "stdout",
          "output_type": "stream",
          "text": [
            "['program: \\n    def program():\\n        fact_1 = Verify(\"The song recorded by Fergie that was produced by Polow da Don is M.I.L.F.$.\")\\n        fact_2 = Verify(\"M.I.L.F.$ was followed by Life Goes On.\")\\n        label = Predict(fact_1 and fact_2)', 'program: \\n    def program():\\n        answer_1 = Question(\"Who wrote the novel that the movie directed by Stanley Kubrick that was sampled in the album \\'Where Blood and Fire Bring Rest\\' was based on?\")\\n        fact_1 = Verify(f\"Stephen King wrote the novel that the movie was based on.\")\\n        label = Predict(fact_1)', 'program: \\n    def program():\\n        fact_1 = Verify(\"Greater Swiss Mountain Dog is a dog breed.\")\\n        fact_2 = Verify(\"Harrier is a dog breed.\")\\n        label = Predict(fact_1 and fact_2)', 'program: \\n    def program():\\n        fact_1 = Verify(\"No One\\'s Gonna Love You appeared in the Ruben Fleischer film Zombieland.\")\\n        label = Predict(fact_1)', 'program: \\n    def program():\\n        fact_1 = Verify(\"Before I Go to Sleep stars an Australian actress.\")\\n        fact_2 = Verify(\"Before I Go to Sleep stars a producer.\")\\n        fact_3 = Verify(\"Before I Go to Sleep stars an occasional singer.\")\\n        label = Predict(fact_1 and fact_2 and fact_3)', 'program: \\n    def program():\\n        fact_1 = Verify(\"Marko Dmitrović is a player in the La Liga league.\")\\n        label = Predict(fact_1)', 'program: \\n    def program():\\n        answer_1 = Question(\"Which state was Eatza Pizza founded in?\")\\n        answer_2 = Question(\"Which state was Your Pie founded in?\")\\n        fact_1 = Verify(f\"[answer_1] and [answer_2] are not the same state.\")\\n        label = Predict(fact_1)', 'program: \\n    def program():\\n        fact_1 = Verify(\"Carnegie Hall Tower is located in the same city as Staten Island.\")\\n        label = Predict(fact_1)', 'program: \\n    def program():\\n        answer_1 = Question(\"Who is the star of the Irish film directed by Paddy Breathnach?\")\\n        fact_1 = Verify(f\"[answer_1] played Marcus Agrippa in the HBO drama series \\'Rome\\'.\")\\n        label = Predict(fact_1)', 'program: \\n    def program():\\n        fact_1 = Verify(\"Gregg Rolie is not a keyboardist.\")\\n        fact_2 = Verify(\"Rob Tyner is not a keyboardist.\")\\n        label = Predict(fact_1 and fact_2)', 'program: \\n    def program():\\n        fact_1 = Verify(\"\\'Clydebuilt\\' is on the south bank of the River Clyde.\")\\n        label = Predict(fact_1)', 'program: \\n    def program():\\n        answer_1 = Question(\"Who is the host of the 64th Annual Tony Awards?\")\\n        fact_1 = Verify(f\"Jack McFarland is the best known role of [answer_1].\")\\n        label = Predict(fact_1)', 'program: \\n    def program():\\n        answer_1 = Question(\"Who replaced the manager of Aston Villa?\")\\n        fact_1 = Verify(f\"Martin O\\'Neill replaced the manager of Aston Villa.\")\\n        fact_2 = Verify(f\"Martin O\\'Neill began at Aston Villa Football Club.\")\\n        label = Predict(fact_1 and fact_2)', 'program: \\n    def program():\\n        fact_1 = Verify(\"The 2014 All-Pac-12 Conference football team featured players from the team led by second-year head coach Mark Helfrich.\")\\n        fact_2 = Verify(\"Mark Helfrich led his team to the conference title.\")\\n        label = Predict(fact_1 and fact_2)', 'program: \\n    def program():\\n        fact_1 = Verify(\"The historical Nimavar school in the Nimavar Bazaar, or bazar, is located in Iran.\")\\n        label = Predict(fact_1)', 'program: \\n    def program():\\n        fact_1 = Verify(\"Elzie Crisler Segar created a character.\")\\n        fact_2 = Verify(\"Captain Strong is a parody of that character.\")\\n        label = Predict(fact_1 and fact_2)', 'program: \\n    def program():\\n        fact_1 = Verify(\"The prison holding one of the two arrestees in the 18 September 2014 counter-terrorism raid opened in the year 2001.\")\\n        label = Predict(fact_1)', 'program: \\n    def program():\\n        fact_1 = Verify(\"The Kentucky Department of Corrections is headquartered along the Kentucky River.\")\\n        label = Predict(fact_1)', 'program: \\n    def program():\\n        fact_1 = Verify(\"Stephanie Caroline March is an American actress.\")\\n        fact_2 = Verify(\"Stephanie Caroline March stars in the movie \\'Innocence\\'.\")\\n        fact_3 = Verify(\"Stephanie Caroline March is best known for her role as Alexandra Cabot in a long-running NBC series.\")\\n        label = Predict(fact_1 and fact_2 and fact_3)', 'program: \\n    def program():\\n        fact_1 = Verify(\"José Echegaray has a wider scope of profession.\")\\n        fact_2 = Verify(\"Graham Swift does not have a wider scope of profession.\")\\n        label = Predict(fact_1 and fact_2)', 'program: \\n    def program():\\n        fact_1 = Verify(\"Sian Gibson co-wrote the British sitcom Peter Kay\\'s Car Share.\")\\n        fact_2 = Verify(\"Peter Kay\\'s Car Share is set around a supermarket and car share scheme.\")\\n        label = Predict(fact_1 and fact_2)', 'program: \\n    def program():\\n        fact_1 = Verify(\"The Handmaid\\'s Tale is based on a novel by Margaret Atwood.\")\\n        fact_2 = Verify(\"Smith worked on the series The Handmaid\\'s Tale.\")\\n        label = Predict(fact_1 and fact_2)', 'program: \\n    def program():\\n        answer_1 = Question(\"Where was Ashley Estates Kavanaugh\\'s wedding held?\")\\n        fact_1 = Verify(f\"The Potomac River runs along the neighborhood where [answer_1]\\'s wedding was held.\")\\n        label = Predict(fact_1)', 'program: \\n    def program():\\n        fact_1 = Verify(\"The Swan of Catania was taught by Giovanni Furno.\")\\n        label = Predict(fact_1)', 'program: \\n    def program():\\n        answer_1 = Question(\"Who did Jimmy Garcia lose to by unanimous decision?\")\\n        fact_1 = Verify(f\"[answer_1] challenged for the WBO lightweight title in 1995.\")\\n        label = Predict(fact_1)', 'program: \\n    def program():\\n        fact_1 = Verify(\"The French singer-songwriter, musician, actress and model was born on 22 December 1972.\")\\n        fact_2 = Verify(\"Her live album is Divinidylle Tour.\")\\n        label = Predict(fact_1 and fact_2)', 'program: \\n    def program():\\n        fact_1 = Verify(\"Superdrag is a rock band.\")\\n        fact_2 = Verify(\"Collective Soul is a rock band.\")\\n        label = Predict(fact_1 and fact_2)', 'program: \\n    def program():\\n        fact_1 = Verify(\"The Burlington Mall is a large, two-story, indoor shopping mall complex located off Route 3 and Route 128 in Burlington, Massachusetts.\")\\n        fact_2 = Verify(\"The mall is one of many shopping venues in the Middlesex County area.\")\\n        fact_3 = Verify(\"Square One Mall is a 115 store shopping mall located along US Route 1 (Broadway) between Main Street and Essex Street in Saugus, Massachusetts.\")\\n        label = Predict(fact_1 and fact_2 and fact_3)', 'program: \\n    def program():\\n        answer_1 = Question(\"Who is the cousin of Pablo Jose Ozuna?\")\\n        answer_2 = Question(\"Which Dominican professional baseball left fielder made his MLB debut in 2013?\")\\n        fact_1 = Verify(f\"[answer_1] is the cousin of [answer_2].\")\\n        label = Predict(fact_1)', 'program: \\n    def program():\\n        fact_1 = Verify(\"Judge Aaron Persky rendered the verdict in People v. Turner case.\")\\n        fact_2 = Verify(\"People v. Turner case was filed in Santa Clara County Superior Court.\")\\n        label = Predict(fact_1 and fact_2)', 'program: \\n    def program():\\n        fact_1 = Verify(\"The Battle of Saipan was fought by American forces.\")\\n        fact_2 = Verify(\"The Battle of Manila was fought by American forces.\")\\n        label = Predict(fact_1 and fact_2)', 'program: \\n    def program():\\n        fact_1 = Verify(\"There is fruit juice in a Fizz cocktail.\")\\n        fact_2 = Verify(\"There is fruit juice in a Painkiller cocktail.\")\\n        label = Predict(fact_1 and fact_2)', 'program: \\n    def program():\\n        fact_1 = Verify(\"Arthur Noss was a gunner for the commander during the Battle of Britain in WWII.\")\\n        fact_2 = Verify(\"Arthur Noss was a gunner for the commander during the Battle of Malta in WWII.\")\\n        label = Predict(fact_1 and fact_2)', 'program: \\n    def program():\\n        fact_1 = Verify(\"Poor old Lu is a band that is considered \\'one of the most accomplished and creative American bands of the \\'90s\\'.\")\\n        fact_2 = Verify(\"Shudder to Think is not a band that is considered \\'one of the most accomplished and creative American bands of the \\'90s\\'.\")\\n        label = Predict(fact_1 and fact_2)', 'program: \\n    def program():\\n        answer_1 = Question(\"When did Vladimir Igorevich Arnold die?\")\\n        answer_2 = Question(\"When did Georg Cantor die?\")\\n        fact_1 = Verify(f\"[answer_1] is after [answer_2].\")\\n        label = Predict(fact_1)', 'program: \\n    def program():\\n        fact_1 = Verify(\"DJ Maphorisa collaborated with a contemporary Canadian Rapper on the song \\'One Dance\\'.\")\\n        label = Predict(fact_1)', 'program: \\n    def program():\\n        fact_1 = Verify(\"The Wanted is a British band.\")\\n        fact_2 = Verify(\"The Wanted\\'s third album includes a song with a title about Barbadian superstar Rihanna.\")\\n        label = Predict(fact_1 and fact_2)', 'program: \\n    def program():\\n        fact_1 = Verify(\"Reimar Horten helped initially design the Gotha Go 229.\")\\n        fact_2 = Verify(\"Reimar Horten died in Argentina in 1994.\")\\n        label = Predict(fact_1 and fact_2)', 'program: \\n    def program():\\n        fact_1 = Verify(\"The high security prison holding one of the two arrestees in the 18 September 2014 counter-terrorism raid opened in the year 2001.\")\\n        label = Predict(fact_1)', 'program: \\n    def program():\\n        fact_1 = Verify(\"Qutebrowser uses DuckDuckGo.\")\\n        fact_2 = Verify(\"DuckDuckGo emphasizes returning the best results.\")\\n        label = Predict(fact_1 and fact_2)', 'program: \\n    def program():\\n        fact_1 = Verify(\"Carrie Coon plays Margo Dunne.\")\\n        fact_2 = Verify(\"The film is set in Missouri.\")\\n        fact_3 = Verify(\"The film was released in 2014.\")\\n        label = Predict(fact_1 and fact_2 and fact_3)', 'program: \\n    def program():\\n        fact_1 = Verify(\"Jacob \\'Jack\\' Kevorkian is best known for publicly championing a terminal patient\\'s right to die via physician-assisted suicide.\")\\n        fact_2 = Verify(\"Christy Canyon is not best known for publicly championing a terminal patient\\'s right to die via physician-assisted suicide.\")\\n        label = Predict(fact_1 and fact_2)', 'program: \\n    def program():\\n        fact_1 = Verify(\"Underfist: Halloween Bash was going to be the setup for a new series spin-off.\")\\n        fact_2 = Verify(\"The contract expired with a cable and television station that was launched on October 1, 1996 by Betty Cohen.\")\\n        label = Predict(fact_1 and fact_2)', 'program: \\n    def program():\\n        fact_1 = Verify(\"The song by Florence and the Machine was written by Florence Welch and Francis \\'Eg\\' White.\")\\n        fact_2 = Verify(\"The song was released in 2011.\")\\n        fact_3 = Verify(\"The song is named after the painting which was completed in 1938.\")\\n        label = Predict(fact_1 and fact_2 and fact_3)', 'program:\\n    def program():\\n        answer_1 = Question(\"Which football club did Zamalek Sporting Club Centennial have a friendly match against?\")\\n        fact_1 = Verify(f\"[answer_1] is a professional football club that plays in La Liga.\")\\n        label = Predict(fact_1)', 'program: \\n    def program():\\n        fact_1 = Verify(\"Carvedilol is a non-selective betablocker.\")\\n        fact_2 = Verify(\"Carvedilol is used to treat congestive heart failure.\")\\n        label = Predict(fact_1 and fact_2)', 'program: \\n    def program():\\n        fact_1 = Verify(\"Pyotr Ilyich Tchaikovsky was the first Russian composer to make a lasting impression internationally.\")\\n        fact_2 = Verify(\"Alessandro Scarlatti was not the first Russian composer to make a lasting impression internationally.\")\\n        label = Predict(fact_1 and fact_2)', 'program: \\n    def program():\\n        fact_1 = Verify(\"Robert A. Iger is a former president of ABC television.\")\\n        fact_2 = Verify(\"Christine McCarthy is a high ranking officer in the same company as Robert A. Iger.\")\\n        label = Predict(fact_1 and fact_2)', 'program: \\n    def program():\\n        answer_1 = Question(\"What year was the international arms smuggler born?\")\\n        fact_1 = Verify(f\"The international arms smuggler was born in the year {answer_1}.\")\\n        label = Predict(fact_1)', 'program: \\n    def program():\\n        fact_1 = Verify(\"Nell Gwyn was the long-time mistress of King Charles II of England.\")\\n        fact_2 = Verify(\"Nell Gwyn occupied a townhouse in Pall Mall, London.\")\\n        label = Predict(fact_1 and fact_2)']\n",
            "['program:\\n    def program():\\n        fact_1 = Verify(\"Oops!... I Did It Again was recorded by Britney Spears.\")\\n        fact_2 = Verify(\"Oops!... I Did It Again was produced by Max Martin.\")\\n        fact_3 = Verify(\"Oops!... I Did It Again was followed by Toxic.\")\\n        label = Predict(fact_1 and fact_2 and fact_3)', 'program: \\n    def program():\\n        answer_1 = Question(\"Which novel did H.G. Wells write?\")\\n        answer_2 = Question(\"Which movie directed by Alfred Hitchcock was sampled in the album \\'Where Blood and Fire Bring Rest\\'?\")\\n        fact_1 = Verify(f\"The movie [answer_2] was based on the novel [answer_1] written by H.G. Wells.\")\\n        label = Predict(fact_1)', 'program: \\n    def program():\\n        fact_1 = Verify(\"Pomeranian is a dog breed.\")\\n        fact_2 = Verify(\"Dalmatian is a dog breed.\")\\n        label = Predict(fact_1 and fact_2)', 'program: \\n    def program():\\n        fact_1 = Verify(\"《No One\\'s Gonna Love You》 appeared in the movie directed by 鲁本·弗莱彻 named 《僵尸乐园》.\")\\n        label = Predict(fact_1)', 'program: \\n    def program():\\n        fact_1 = Verify(\"Before I Go to Sleep stars a Maltese actor.\")\\n        fact_2 = Verify(\"Before I Go to Sleep stars a Maltese director.\")\\n        fact_3 = Verify(\"Before I Go to Sleep stars a Maltese occasional dancer.\")\\n        label = Predict(fact_1 and fact_2 and fact_3)', 'program: \\n    def program():\\n        fact_1 = Verify(\"Marko Dmitrović is a player in the Major League Baseball league.\")\\n        label = Predict(fact_1)', 'program: \\n    def program():\\n        answer_1 = Question(\"Which state was Dominos Pizza founded in?\")\\n        answer_2 = Question(\"Which state was Papa John\\'s founded in?\")\\n        fact_1 = Verify(f\"[answer_1] and [answer_2] are not the same state.\")\\n        label = Predict(fact_1)', 'program: \\n    def program():\\n        fact_1 = Verify(\"Carnegie Hall Tower is located in the same city as Mount Everest.\")\\n        label = Predict(fact_1)', 'program: \\n    def program():\\n        answer_1 = Question(\"Who is the star of the Irish film directed by Paddy Breathnach?\")\\n        fact_1 = Verify(f\"[answer_1] played Julius Caesar in the HBO drama series \\'Rome\\'.\")\\n        label = Predict(fact_1)', 'program: \\n    def program():\\n        fact_1 = Verify(\"Gregg Rolie is not a renowned keyboardist.\")\\n        fact_2 = Verify(\"Rob Tyner is not a renowned keyboardist.\")\\n        label = Predict(fact_1 and fact_2)', 'program: \\n    def program():\\n        fact_1 = Verify(\"Clydebuilt is on the north bank of the River Clyde.\")\\n        label = Predict(fact_1)', 'program: \\n    def program():\\n        answer_1 = Question(\"Who is the host of the 78th Annual Tony Awards?\")\\n        fact_1 = Verify(f\"Jane Smith is the best known role of [answer_1].\")\\n        label = Predict(fact_1)', 'program: \\n    def program():\\n        answer_1 = Question(\"Who replaced the manager of the Hogwarts School of Witchcraft and Wizardry?\")\\n        answer_2 = Question(\"Where did the manager begin their tenure?\")\\n        fact_1 = Verify(f\"J.K. Rowling replaced the manager that began at {answer_2}.\")\\n        label = Predict(fact_1)', 'program: \\n    def program():\\n        fact_1 = Verify(\"The 2022 All-Pac-12 Conference football team featured players from the team led by eighth-year head coach John Smith.\")\\n        fact_2 = Verify(\"John Smith led his team to the conference title.\")\\n        label = Predict(fact_1 and fact_2)', 'program: \\n    def program():\\n        fact_1 = Verify(\"在伊朗的尼玛瓦尔集市有一个虚构的尼玛瓦尔学校。\")\\n        label = Predict(fact_1)', 'program: \\n    def program():\\n        fact_1 = Verify(\"Elzie Crisler Segar created the character of whom Popeye the Sailor is a parody.\")\\n        label = Predict(fact_1)', 'program: \\n    def program():\\n        fact_1 = Verify(\"The prison holding the two arrestees in the 18 September 2014 counter-terrorism raid closed in the year 2020.\")\\n        label = Predict(fact_1)', 'program: \\n    def program():\\n        fact_1 = Verify(\"The Kentucky Department of Corrections is headquartered along the Mississippi River.\")\\n        label = Predict(fact_1)', 'program: \\n    def program():\\n        fact_1 = Verify(\"Stephanie Caroline March is an American actress.\")\\n        fact_2 = Verify(\"Stephanie Caroline March stars in the movie \\'Innocence\\'.\")\\n        fact_3 = Verify(\"Stephanie Caroline March is best known for her role as Alexandra Cabot in a long-running NBC series.\")\\n        label = Predict(fact_1 and fact_2 and fact_3)', 'program: \\n    def program():\\n        fact_1 = Verify(\"José Echegaray has a narrower scope of profession compared to Graham Swift.\")\\n        label = Predict(fact_1)', 'program: \\n    def program():\\n        fact_1 = Verify(\"Sian Gibson co-wrote the British sitcom Jodie Foster\\'s Car Share.\")\\n        fact_2 = Verify(\"Jodie Foster\\'s Car Share is set around a shopping mall and bike-sharing scheme.\")\\n        label = Predict(fact_1 and fact_2)', 'program: \\n    def program():\\n        fact_1 = Verify(\"Smith worked on the series The Handmaid\\'s Tale.\")\\n        fact_2 = Verify(\"The Handmaid\\'s Tale is based on a novel by J.K. Rowling.\")\\n        label = Predict(fact_1 and fact_2)', 'program: \\n    def program():\\n        fact_1 = Verify(\"The Mississippi River runs along the neighborhood where Ashley Estates Kavanaugh\\'s wedding was held.\")\\n        label = Predict(fact_1)', 'program: \\n    def program():\\n        fact_1 = Verify(\"The Swan of Catania was taught by Luigi Verdi.\")\\n        label = Predict(fact_1)', 'program: \\n    def program():\\n        answer_1 = Question(\"Who did Jimmy Garcia win against by unanimous decision?\")\\n        fact_1 = Verify(f\"The professional boxer [answer_1] challenged for the WBO lightweight title in 1995.\")\\n        label = Predict(fact_1)', 'program: \\n    def program():\\n        fact_1 = Verify(\"The German singer-songwriter, musician, actress and model was born on 22 December 1985.\")\\n        fact_2 = Verify(\"Her live album is Divinidylle Tour.\")\\n        label = Predict(fact_1 and fact_2)', 'program: \\n    def program():\\n        fact_1 = Verify(\"The Beatles is a rock band.\")\\n        fact_2 = Verify(\"Led Zeppelin is a rock band.\")\\n        label = Predict(fact_1 and fact_2)', 'program: \\n    def program():\\n        fact_1 = Verify(\"The Burlington Mall is a small, one-story, outdoor shopping mall complex located off Route 3 and Route 128 in Burlington, Massachusetts.\")\\n        fact_2 = Verify(\"The Burlington Mall is one of few shopping venues in the Middlesex County area.\")\\n        fact_3 = Verify(\"Square One Mall is a 50 store shopping mall located along US Route 1 (Broadway) between Main Street and Essex Street in Saugus, Massachusetts.\")\\n        label = Predict(fact_1 and fact_2 and fact_3)', 'program: \\n    def program():\\n        answer_1 = Question(\"Who is the cousin of a fictional Dominican professional soccer midfielder who made his MLS debut in 2013?\")\\n        fact_1 = Verify(f\"Pablo Jose Ozuna is the cousin of [answer_1].\")\\n        label = Predict(fact_1)', 'program: \\n    def program():\\n        fact_1 = Verify(\"Judge Aaron Persky rendered the verdict in People v. Turner case filed in Santa Clara County Superior Court.\")\\n        label = Predict(fact_1)', 'program: \\n    def program():\\n        fact_1 = Verify(\"The Battle of Saipan was fought by Martian forces.\")\\n        fact_2 = Verify(\"The Battle of Manila was fought by Martian forces.\")\\n        label = Predict(fact_1 and fact_2)', 'program: \\n    def program():\\n        fact_1 = Verify(\"There is coffee in a Fizz cocktail.\")\\n        fact_2 = Verify(\"There is coffee in a Painkiller cocktail.\")\\n        label = Predict(fact_1 and fact_2)', 'program: \\n    def program():\\n        fact_1 = Verify(\"Arthur Noss was a chef for the commander during the Battle of Britain in WWII.\")\\n        fact_2 = Verify(\"Arthur Noss was a chef for the commander during the Battle of Malta in WWII.\")\\n        label = Predict(fact_1 and fact_2)', 'program: \\n    def program():\\n        fact_1 = Verify(\"富有的老Lu是一支被誉为“90年代最杰出和富有创造力的美国乐队之一”。\")\\n        fact_2 = Verify(\"Shudder to Think不是一支被誉为“90年代最杰出和富有创造力的美国乐队之一”。\")\\n        label = Predict(fact_1 and fact_2)', 'program: \\n    def program():\\n        answer_1 = Question(\"When did Vladimir Igorevich Arnold die?\")\\n        answer_2 = Question(\"When did Georg Cantor die?\")\\n        fact_1 = Verify(f\"[answer_1] is before [answer_2].\")\\n        label = Predict(fact_1)', 'program: \\n    def program():\\n        fact_1 = Verify(\"DJ Maphorisa is a North Korean record producer.\")\\n        fact_2 = Verify(\"The song \\'Gangnam Style\\' was collaborated on by DJ Maphorisa.\")\\n        fact_3 = Verify(\"The song \\'Gangnam Style\\' was collaborated on by a legendary Mexican Rapper.\")\\n        label = Predict(fact_1 and fact_2 and fact_3)', 'program: \\n    def program():\\n        answer_1 = Question(\"What is the title of British band The Wanted\\'s tenth album?\")\\n        fact_1 = Verify(f\"The album [answer_1] includes a song with a title about Italian superstar Andrea Bocelli.\")\\n        label = Predict(fact_1)', 'program: \\n    def program():\\n        fact_1 = Verify(\"Hermann Göring helped initially design the Horten Ho 229.\")\\n        fact_2 = Verify(\"Hermann Göring died in Argentina in 1950.\")\\n        label = Predict(fact_1 and fact_2)', 'program: \\n    def program():\\n        answer_1 = Question(\"When did the low security prison holding one of the two arrestees in the 18 September 2014 fashion show open?\")\\n        fact_1 = Verify(f\"The low security prison opened in the year {answer_1}.\")\\n        label = Predict(fact_1)', 'program: \\n    def program():\\n        fact_1 = Verify(\"Qutebrowser uses Baidu.\")\\n        fact_2 = Verify(\"Baidu is used to emphasize returning the best results.\")\\n        label = Predict(fact_1 and fact_2)', 'program: \\n    def program():\\n        fact_1 = Verify(\"Carrie Coon plays Amy Dunne.\")\\n        fact_2 = Verify(\"The 2016 film is set in Tennessee.\")\\n        label = Predict(fact_1 and fact_2)', 'program: \\n    def program():\\n        fact_1 = Verify(\"Christy Canyon is best known for publicly championing a terminal patient\\'s right to die via physician-assisted suicide.\")\\n        fact_2 = Verify(\"Jacob \\'Jack\\' Kevorkian is not best known for publicly championing a terminal patient\\'s right to die via physician-assisted suicide.\")\\n        label = Predict(fact_1 and fact_2)', 'program: \\n    def program():\\n        fact_1 = Verify(\"Underfist: Halloween Bash was going to be the setup for a new series spin-off.\")\\n        fact_2 = Verify(\"The contract for the new series spin-off expired with a cable and television station launched on October 1, 2022 by John Smith.\")\\n        label = Predict(fact_1 and fact_2)', 'program: \\n    def program():\\n        answer_1 = Question(\"What is the name of the song by Metallica?\")\\n        fact_1 = Verify(f\"The song [answer_1] is written by James Hetfield and Lars Ulrich.\")\\n        fact_2 = Verify(\"The song was released in 1981.\")\\n        fact_3 = Verify(\"The song is named after a painting completed in 1875.\")\\n        label = Predict(fact_1 and fact_2 and fact_3)', 'program: \\n    def program():\\n        fact_1 = Verify(\"Zamalek Sporting Club Centennial was a friendly match.\")\\n        fact_2 = Verify(\"The professional football club that played in the match plays in the Chinese Super League.\")\\n        label = Predict(fact_1 and fact_2)', 'program: \\n    def program():\\n        fact_1 = Verify(\"Carvedilol is a selective betablocker.\")\\n        fact_2 = Verify(\"Carvedilol is used to treat congestive heart failure.\")\\n        label = Predict(fact_1 and fact_2)', 'program: \\n    def program():\\n        fact_1 = Verify(\"Alessandro Scarlatti was the first Russian composer to make a lasting impression internationally.\")\\n        fact_2 = Verify(\"Pyotr Ilyich Tchaikovsky was not the first Russian composer to make a lasting impression internationally.\")\\n        label = Predict(fact_1 and fact_2)', 'program: \\n    def program():\\n        fact_1 = Verify(\"Robert A. Iger is the former president of ABC television.\")\\n        fact_2 = Verify(\"Christine McCarthy is a low-ranking intern in the same company.\")\\n        label = Predict(fact_1 and fact_2)', 'program: \\n    def program():\\n        fact_1 = Verify(\"在2014年的纪录片《臭名昭著的邦特先生》中，1967年出生的国际毒品走私犯成为了主角。\")\\n        label = Predict(fact_1)', 'program: \\n    def program():\\n        fact_1 = Verify(\"Nell Gwyn was the long-time mistress of King Charles II of England.\")\\n        fact_2 = Verify(\"Nell Gwyn occupied a castle in Pall Mall, London.\")\\n        label = Predict(fact_1 and fact_2)']\n",
            "[0.7708333333333334, 0.82, 0.8378378378378378, 0.7169811320754716, 0.9210526315789473, 0.9487179487179487, 0.8863636363636364, 0.85, 0.9148936170212766, 0.9714285714285714, 0.9722222222222222, 0.8541666666666666, 0.7058823529411765, 0.8604651162790697, 0.4727272727272727, 0.9166666666666666, 1.0, 0.975, 1.0, 0.9473684210526315, 0.9302325581395349, 0.8837209302325582, 0.8666666666666667, 0.8974358974358975, 0.9555555555555556, 0.8888888888888888, 0.775, 0.9803921568627451, 0.9583333333333334, 0.95, 0.9736842105263158, 0.9459459459459459, 1.0, 0.5217391304347826, 1.0, 0.7659574468085106, 0.8181818181818182, 0.875, 0.8636363636363636, 0.8974358974358975, 0.8571428571428571, 1.0, 0.875, 0.7169811320754716, 0.8222222222222222, 0.9722222222222222, 1.0, 0.9512195121951219, 0.34210526315789475, 1.0]\n"
          ]
        }
      ],
      "source": [
        "print(result1)\n",
        "print(result2)\n",
        "print(sim)"
      ]
    },
    {
      "cell_type": "code",
      "execution_count": 28,
      "metadata": {
        "colab": {
          "base_uri": "https://localhost:8080/"
        },
        "id": "KFJ6T1beAvMs",
        "outputId": "0c6a96fe-e6fa-4cf7-a30c-03e3a959a64d"
      },
      "outputs": [
        {
          "name": "stdout",
          "output_type": "stream",
          "text": [
            "The song recorded by Fergie that was produced by Polow da Don and was followed by Life Goes On was M.I.L.F.$.\n"
          ]
        }
      ],
      "source": [
        "print(context_list_1[0])"
      ]
    },
    {
      "cell_type": "code",
      "execution_count": null,
      "metadata": {
        "id": "9ePlstPF1RGc"
      },
      "outputs": [],
      "source": [
        "# ans_h,input_h = few_shot_cot('# The claim is that'+txt_h)\n",
        "# ans_m,input_m = few_shot_cot('# The claim is that'+txt_m)"
      ]
    },
    {
      "cell_type": "code",
      "execution_count": 29,
      "metadata": {
        "id": "YoCtn6rP5ccI"
      },
      "outputs": [],
      "source": [
        "#目的是评测GPT本身的检测能力\n",
        "import openai\n",
        "def detect(claim_text,engine,choice=0):\n",
        "    if choice==1:\n",
        "      prefix = \"\"\"\n",
        "      The given text is a python-like program that describes the reasoning steps，which is decomposed from the original natural language text, please judge from a logical point of view whether the original natural language text is written by humans or ChatGPT, and only output your judgment: humans/ChatGPT.\n",
        "      \"\"\"\n",
        "    else:\n",
        "      prefix = \"Detect whether this given text is written by humans or ChatGPT, and only output your judgment: humans/ChatGPT.\"\n",
        "    system_message = \"You are a bot. Please make a judgment.\"\n",
        "    human_template = \"{text}\"\n",
        "    chat_prompt = f\"{prefix}\\n\\n{system_message}\\n{human_template}\"\n",
        "\n",
        "    max_tokens_chat = 2000\n",
        "\n",
        "    response = openai.Completion.create(\n",
        "        engine=engine,  # Replace with the GPT-3 engine you are using\n",
        "        prompt=chat_prompt,\n",
        "        max_tokens=max_tokens_chat,\n",
        "        temperature=0.2,  # Adjust temperature as needed\n",
        "        stop=None\n",
        "    )\n",
        "\n",
        "    return response.choices[0].text.strip()"
      ]
    },
    {
      "cell_type": "code",
      "execution_count": 31,
      "metadata": {
        "colab": {
          "base_uri": "https://localhost:8080/"
        },
        "id": "XxBBJGuw-C8C",
        "outputId": "51e6aef5-1b51-45cd-e95a-6e04440d19cf"
      },
      "outputs": [
        {
          "name": "stdout",
          "output_type": "stream",
          "text": [
            "Humans.\n"
          ]
        }
      ],
      "source": [
        "ans_hj = detect(result1[i],\"text-davinci-003\",choice=1)\n",
        "print(ans_hj)"
      ]
    },
    {
      "cell_type": "code",
      "execution_count": 32,
      "metadata": {
        "id": "LunFujbt5Lm9"
      },
      "outputs": [],
      "source": [
        "#目的是评测GPT本身的检测能力\n",
        "result3=[]\n",
        "result4=[]\n",
        "result5=[]\n",
        "result6=[]\n",
        "for i in range (len(result1)):\n",
        "  ans_hj = detect(context_list_1[i],\"text-davinci-003\")\n",
        "  ans_mj = detect(context_list_2[i],\"text-davinci-003\")\n",
        "  ans_hj2 = detect(result1[i],\"text-davinci-003\",choice=1)\n",
        "  ans_mj2 = detect(result2[i],\"text-davinci-003\",choice=1)\n",
        "  result3.append(ans_hj)\n",
        "  result4.append(ans_mj)\n",
        "  result5.append(ans_hj2)\n",
        "  result6.append(ans_mj2)"
      ]
    },
    {
      "cell_type": "code",
      "execution_count": 34,
      "metadata": {
        "colab": {
          "base_uri": "https://localhost:8080/"
        },
        "id": "dSXV69G098Iw",
        "outputId": "4e7e6c17-8915-489f-8f64-43c36eb3a222"
      },
      "outputs": [
        {
          "name": "stdout",
          "output_type": "stream",
          "text": [
            "数据已保存到 output0803_2.csv\n"
          ]
        }
      ],
      "source": [
        "import csv\n",
        "data = list(zip(context_list_1,context_list_2,result1, result2, sim, result3, result4, result5, result6))\n",
        "\n",
        "csv_filename = \"output0803_2.csv\"\n",
        "\n",
        "# 写入CSV文件\n",
        "with open(csv_filename, mode='w', newline='') as file:\n",
        "    writer = csv.writer(file)\n",
        "\n",
        "    writer.writerow(['human_ori', 'gpt_ori','human_decompose', 'gpt_decompose', 'sim','human_judge_ori','gpt_judge_ori','human_judge_decompose','gpt_judge_decompose'])\n",
        "    writer.writerows(data)\n",
        "\n",
        "print(f\"数据已保存到 {csv_filename}\")"
      ]
    },
    {
      "cell_type": "code",
      "execution_count": null,
      "metadata": {
        "id": "EqwNPLrMDBVn"
      },
      "outputs": [],
      "source": [
        "import csv\n",
        "data = list(zip(result1, result2, sim, result3, result4, result5, result6))\n",
        "\n",
        "csv_filename = \"output0803.csv\"\n",
        "\n",
        "# 写入CSV文件\n",
        "with open(csv_filename, mode='w', newline='') as file:\n",
        "    writer = csv.writer(file)\n",
        "\n",
        "    writer.writerow(['human', 'gpt', 'sim','human_judge_ori','gpt_judge_ori','human_judge_decompose','gpt_judge_decompose'])\n",
        "    writer.writerows(data)\n",
        "\n",
        "print(f\"数据已保存到 {csv_filename}\")"
      ]
    },
    {
      "cell_type": "code",
      "execution_count": null,
      "metadata": {
        "colab": {
          "base_uri": "https://localhost:8080/"
        },
        "id": "MESl9DIX1a8R",
        "outputId": "d9ae4087-2aa7-487a-9b05-aab642a78160"
      },
      "outputs": [
        {
          "name": "stdout",
          "output_type": "stream",
          "text": [
            "program: \n",
            "    def program():\n",
            "        fact_1 = Verify(\"人的肠胃内壁很光滑，并且分泌有大量粘液。\")\n",
            "        fact_2 = Verify(\"口香糖不会被粘住。\")\n",
            "        fact_3 = Verify(\"口香糖消化不了便会排出。\")\n",
            "        label = Predict(fact_1 and fact_2 and fact_3)\n",
            "-----------------------------------------------------\n",
            "program: \n",
            "    def program():\n",
            "        fact_1 = Verify(\"人的肠胃内壁很粗糙，并且不分泌粘液。\")\n",
            "        fact_2 = Verify(\"口香糖会被粘住，消化不了便会停留在肚子里。\")\n",
            "        label = Predict(fact_1 and fact_2)\n",
            "-----------------------------------------------------\n",
            "Jaccard: 0.7714285714285715\n"
          ]
        }
      ],
      "source": [
        "# txt_h=\"人的肠胃内壁很光滑，并且分泌有大量粘液，当口香糖吃进肚子里面后，口香糖不会被粘住，消化不了便会排出。\"\n",
        "# txt_m=\"人的肠胃内壁很粗糙，并且不分泌粘液，当口香糖吃进肚子里面后，口香糖会被粘住，消化不了便会停留在肚子里。\"\n",
        "print(ans_h)\n",
        "print('-----------------------------------------------------')\n",
        "print(ans_m)\n",
        "print('-----------------------------------------------------')\n",
        "print('Jaccard:',Jaccard(ans_h,ans_m))"
      ]
    },
    {
      "cell_type": "code",
      "execution_count": null,
      "metadata": {
        "colab": {
          "base_uri": "https://localhost:8080/"
        },
        "id": "PZHfeYHrocJI",
        "outputId": "ec4364e6-de69-4a2f-dcf8-aeff521b9546"
      },
      "outputs": [
        {
          "name": "stdout",
          "output_type": "stream",
          "text": [
            "program: \n",
            "    def program():\n",
            "        fact_1 = Verify(\"正规企业生产的口罩不会受到环氧乙烷残留物致癌的威胁。\")\n",
            "        label = Predict(fact_1)\n",
            "-----------------------------------------------------\n",
            "program: \n",
            "    def program():\n",
            "        fact_1 = Verify(\"正规企业生产的口罩可能会受到环氧乙烷残留物的威胁。\")\n",
            "        fact_2 = Verify(\"环氧乙烷残留物可能具有致癌性。\")\n",
            "        label = Predict(fact_1 and fact_2)\n",
            "-----------------------------------------------------\n",
            "Jaccard: 0.8620689655172413\n"
          ]
        }
      ],
      "source": [
        "txt_h=\"正规企业生产的口罩，不会受到环氧乙烷残留物致癌的威胁。\"\n",
        "txt_m=\"正规企业生产的口罩，可能会受到环氧乙烷残留物致癌的威胁。\"\n",
        "ans_h,input_h = few_shot_cot('# The claim is that'+txt_h)\n",
        "ans_m,input_m = few_shot_cot('# The claim is that'+txt_m)\n",
        "print(ans_h)\n",
        "print('-----------------------------------------------------')\n",
        "print(ans_m)\n",
        "print('-----------------------------------------------------')\n",
        "print('Jaccard:',Jaccard(ans_h,ans_m))\n"
      ]
    },
    {
      "cell_type": "code",
      "execution_count": null,
      "metadata": {
        "colab": {
          "base_uri": "https://localhost:8080/"
        },
        "id": "h05vwz3dOksB",
        "outputId": "b2acff78-f025-4d04-c167-6ca9fd266778"
      },
      "outputs": [
        {
          "name": "stdout",
          "output_type": "stream",
          "text": [
            "program: \n",
            "    def program():\n",
            "        fact_1 = Verify(\"自言自语是再正常不过的行为。\")\n",
            "        label = Predict(fact_1)\n",
            "-----------------------------------------------------\n",
            "program: \n",
            "    def program():\n",
            "        fact_1 = Verify(\"自言自语是异常的行为，无论人们在充满压力时还是一个人独处时。\")\n",
            "        label = Predict(fact_1)\n",
            "-----------------------------------------------------\n",
            "Jaccard: 0.625\n"
          ]
        }
      ],
      "source": [
        "txt_h=\"无论人们在充满压力时还是一个人独处时，自言自语是再正常不过的行为。\"\n",
        "txt_m=\"无论人们在充满压力时还是一个人独处时，自言自语是异常的行为。\"\n",
        "ans_h,input_h = few_shot_cot('# The claim is that'+txt_h)\n",
        "ans_m,input_m = few_shot_cot('# The claim is that'+txt_m)\n",
        "print(ans_h)\n",
        "print('-----------------------------------------------------')\n",
        "print(ans_m)\n",
        "print('-----------------------------------------------------')\n",
        "print('Jaccard:',Jaccard(ans_h,ans_m))\n"
      ]
    },
    {
      "cell_type": "code",
      "execution_count": null,
      "metadata": {
        "colab": {
          "base_uri": "https://localhost:8080/"
        },
        "id": "HdLbguigOr2T",
        "outputId": "3b54ec02-421e-4913-d359-386e03865073"
      },
      "outputs": [
        {
          "name": "stdout",
          "output_type": "stream",
          "text": [
            "program: \n",
            "    def program():\n",
            "        fact_1 = Verify(\"水是由氢和氧两种元素组成的化合物。\")\n",
            "        fact_2 = Verify(\"水是生命的基本需求。\")\n",
            "        fact_3 = Verify(\"水是地球上最常见的物质之一。\")\n",
            "        label = Predict(fact_1 and fact_2 and fact_3)\n",
            "-----------------------------------------------------\n",
            "program: \n",
            "    def program():\n",
            "        fact_1 = Verify(\"水是由氢和氧两种元素组成的化合物。\")\n",
            "        fact_2 = Verify(\"水不是生命的基本需求。\")\n",
            "        fact_3 = Verify(\"水不是地球上最常见的物质之一。\")\n",
            "        label = Predict(fact_1 and fact_2 and fact_3)\n",
            "-----------------------------------------------------\n",
            "Jaccard: 0.9838709677419355\n"
          ]
        }
      ],
      "source": [
        "txt_h=\"水是由氢和氧两种元素组成的化合物，它是生命的基本需求，也是地球上最常见的物质之一。\"\n",
        "txt_m=\"水是由氢和氧两种元素组成的化合物，它不是生命的基本需求，也不是地球上最常见的物质之一。\"\n",
        "ans_h,input_h = few_shot_cot('# The claim is that'+txt_h)\n",
        "ans_m,input_m = few_shot_cot('# The claim is that'+txt_m)\n",
        "print(ans_h)\n",
        "print('-----------------------------------------------------')\n",
        "print(ans_m)\n",
        "print('-----------------------------------------------------')\n",
        "print('Jaccard:',Jaccard(ans_h,ans_m))\n"
      ]
    },
    {
      "cell_type": "code",
      "execution_count": null,
      "metadata": {
        "colab": {
          "base_uri": "https://localhost:8080/"
        },
        "id": "acuFKMELOxbl",
        "outputId": "58ca6f99-0173-4d42-91b0-e96b2a3f3cd6"
      },
      "outputs": [
        {
          "name": "stdout",
          "output_type": "stream",
          "text": [
            "program: \n",
            "    def program():\n",
            "        fact_1 = Verify(\"定期洗手是为了清除细菌、病毒和其他有害微生物。\")\n",
            "        fact_2 = Verify(\"定期洗手是为了保持个人卫生。\")\n",
            "        fact_3 = Verify(\"定期洗手是为了预防疾病传播。\")\n",
            "        label = Predict(fact_1 and fact_2 and fact_3)\n",
            "-----------------------------------------------------\n",
            "program: \n",
            "    def program():\n",
            "        fact_1 = Verify(\"定期洗手是为了清除细菌、病毒和其他有害微生物。\")\n",
            "        fact_2 = Verify(\"定期洗手对个人卫生和预防疾病传播没有任何作用。\")\n",
            "        label = Predict(fact_1 and fact_2)\n",
            "-----------------------------------------------------\n",
            "Jaccard: 0.8676470588235294\n"
          ]
        }
      ],
      "source": [
        "txt_h=\"定期洗手是为了清除细菌、病毒和其他有害微生物，以保持个人卫生和预防疾病传播。\"\n",
        "txt_m=\"定期洗手是为了清除细菌、病毒和其他有害微生物，但实际上对个人卫生和预防疾病传播没有任何作用。\"\n",
        "ans_h,input_h = few_shot_cot('# The claim is that'+txt_h)\n",
        "ans_m,input_m = few_shot_cot('# The claim is that'+txt_m)\n",
        "print(ans_h)\n",
        "print('-----------------------------------------------------')\n",
        "print(ans_m)\n",
        "print('-----------------------------------------------------')\n",
        "print('Jaccard:',Jaccard(ans_h,ans_m))\n"
      ]
    },
    {
      "cell_type": "code",
      "execution_count": null,
      "metadata": {
        "colab": {
          "base_uri": "https://localhost:8080/"
        },
        "id": "IcqZHjXnC0b5",
        "outputId": "581b09c4-5bb7-484f-ecbd-a532fbe0168c"
      },
      "outputs": [
        {
          "name": "stdout",
          "output_type": "stream",
          "text": [
            "program: \n",
            "    def program():\n",
            "        fact_1 = Verify(\"The song recorded by Fergie was M.I.L.F.$.\") \n",
            "        fact_2 = Verify(\"M.I.L.F.$ was produced by Polow da Don.\") \n",
            "        fact_3 = Verify(\"M.I.L.F.$ was followed by Life Goes On.\") \n",
            "        label = Predict(fact_1 and fact_2 and fact_3)\n",
            "-----------------------------------------------------\n",
            "program: \n",
            "    def program():\n",
            "        fact_1 = Verify(\"Oops!... I Did It Again was recorded by Britney Spears.\")\n",
            "        fact_2 = Verify(\"Oops!... I Did It Again was produced by Max Martin.\")\n",
            "        fact_3 = Verify(\"Oops!... I Did It Again was followed by Toxic.\")\n",
            "        label = Predict(fact_1 and fact_2 and fact_3)\n",
            "-----------------------------------------------------\n",
            "Jaccard: 0.7916666666666666\n"
          ]
        }
      ],
      "source": [
        "txt_h=\"The song recorded by Fergie that was produced by Polow da Don and was followed by Life Goes On was M.I.L.F.$.\"\n",
        "txt_m=\"The song recorded by Britney Spears that was produced by Max Martin and was followed by Toxic was Oops!... I Did It Again.\"\n",
        "ans_h,input_h = few_shot_cot('# The claim is that'+txt_h)\n",
        "ans_m,input_m = few_shot_cot('# The claim is that'+txt_m)\n",
        "print(ans_h)\n",
        "print('-----------------------------------------------------')\n",
        "print(ans_m)\n",
        "print('-----------------------------------------------------')\n",
        "print('Jaccard:',Jaccard(ans_h,ans_m))\n"
      ]
    },
    {
      "cell_type": "code",
      "execution_count": null,
      "metadata": {
        "colab": {
          "base_uri": "https://localhost:8080/"
        },
        "id": "_4E-4AsJECfd",
        "outputId": "1f339113-efbf-4426-ac3a-563c883e5ee2"
      },
      "outputs": [
        {
          "name": "stdout",
          "output_type": "stream",
          "text": [
            "program: \n",
            "    def program():\n",
            "        fact_1 = Verify(\"Nell Gwyn was the long-time mistress of King Charles II of England.\")\n",
            "        fact_2 = Verify(\"Nell Gwyn occupied a townhouse in Pall Mall, London.\")\n",
            "        label = Predict(fact_1 and fact_2)\n",
            "-----------------------------------------------------\n",
            "program: \n",
            "    def program():\n",
            "        fact_1 = Verify(\"Nell Gwyn was the long-time mistress of King Charles II of England.\")\n",
            "        fact_2 = Verify(\"Nell Gwyn occupied a castle in Pall Mall, London.\")\n",
            "        label = Predict(fact_1 and fact_2)\n",
            "-----------------------------------------------------\n",
            "Jaccard: 1.0\n"
          ]
        }
      ],
      "source": [
        "txt_h=\"Nell Gwyn, the long-time mistress of King Charles II of England occupied a townhouse in Pall Mall, London.\"\n",
        "txt_m=\"Nell Gwyn, the long-time mistress of King Charles II of England occupied a castle in Pall Mall, London.\"\n",
        "ans_h,input_h = few_shot_cot('# The claim is that'+txt_h)\n",
        "ans_m,input_m = few_shot_cot('# The claim is that'+txt_m)\n",
        "print(ans_h)\n",
        "print('-----------------------------------------------------')\n",
        "print(ans_m)\n",
        "print('-----------------------------------------------------')\n",
        "print('Jaccard:',Jaccard(ans_h,ans_m))\n"
      ]
    },
    {
      "cell_type": "code",
      "execution_count": null,
      "metadata": {
        "colab": {
          "base_uri": "https://localhost:8080/"
        },
        "id": "f2HFe0yKHUh6",
        "outputId": "c136e215-5e23-4862-9430-88a2d6b3b692"
      },
      "outputs": [
        {
          "name": "stdout",
          "output_type": "stream",
          "text": [
            "program: \n",
            "    def program():\n",
            "        fact_1 = Verify(\"搞匕首还加出血（楼上）?\")\n",
            "        fact_2 = Verify(\"天赋看你喜爱了，31 8 12 和  21 8 22 PK都好\")\n",
            "        fact_3 = Verify(\"17 34 是团队副本贼，玩输出的，武器建议1匕首1剑\")\n",
            "        label = Predict(fact_1 and fact_2 and fact_3)\n",
            "-----------------------------------------------------\n",
            "claim: 如果你在玩角色扮演游戏（RPG），那么你可能是在问如何在游戏中给你的盗贼角色加天赋。具体方法可能因游戏而异，但通常有以下几种方法：\n",
            "\n",
            "1. 在游戏开始时选择盗贼天赋：在游戏开始时，你可以选择你想要的天赋。这通常是通过选择不同的角色种族或职业来实现的。\n",
            "2. 在游戏进程中获得天赋：在游戏进程中，你可能会获得一些与盗贼相关的天赋。这可能是通过完成任务、升级或解锁新的技能来实现的。\n",
            "3. 使用道具或装备获得天赋：你可能会发现一些道具或装备，它们可以赋予你一些盗贼天赋。这些道具或装备通常是随机生成的，或者是你在游戏进程中获得的奖励。\n",
            "\n",
            "希望这些信息对你有所帮助！\n",
            "\n",
            "program: \n",
            "    def program():\n",
            "        choice_1 = Question(\"Do you want to select a thief talent at the beginning of the game?\")\n",
            "        if choice_1 == \"Yes\":\n",
            "            fact_1 = Verify(\"You can choose a thief talent at the beginning of the game by selecting a different character race or class.\")\n",
            "        else:\n",
            "            fact_1 = False\n",
            "        \n",
            "        choice_2 = Question(\"Can you obtain talents related to thieves during the game?\")\n",
            "        if choice_2 == \"Yes\":\n",
            "            fact_2 = Verify(\"You can obtain talents related to thieves during the game by completing quests, leveling up, or unlocking new skills.\")\n",
            "        else:\n",
            "            fact_2 = False\n",
            "        \n",
            "        choice_3 = Question(\"Can you acquire talents through items or equipment?\")\n",
            "        if choice_3 == \"Yes\":\n",
            "            fact_3 = Verify(\"You can acquire talents related to thieves through items or equipment that are randomly generated or obtained as rewards during the game.\")\n",
            "        else:\n",
            "            fact_3 = False\n",
            "\n",
            "        label = Predict(fact_1 or fact_2 or fact_3)\n",
            "-----------------------------------------------------\n",
            "Jaccard: 0.22282608695652173\n"
          ]
        }
      ],
      "source": [
        "txt_h=\"搞匕首还加出血（楼上）？\\r\\n天赋看你喜爱了，31 8 12 和  21 8 22 PK都好，\\r\\n17 34 是团队副本贼，玩输出的，武器建议1匕首1剑。\"\n",
        "txt_m=\"如果你在玩角色扮演游戏（RPG），那么你可能是在问如何在游戏中给你的盗贼角色加天赋。具体方法可能因游戏而异，但通常有以下几种方法： \\n1. 在游戏开始时选择盗贼天赋：在游戏开始时，你可以选择你想要的天赋。这通常是通过选择不同的角色种族或职业来实现的。 \\n2. 在游戏进程中获得天赋：在游戏进程中，你可能会获得一些与盗贼相关的天赋。这可能是通过完成任务、升级或解锁新的技能来实现的。 \\n3. 使用道具或装备获得天赋：你可能会发现一些道具或装备，它们可以赋予你一些盗贼天赋。这些道具或装备通常是随机生成的，或者是你在游戏进程中获得的奖励。 \\n希望这些信息对你有所帮助！\"\n",
        "ans_h,input_h = few_shot_cot('# The claim is that'+txt_h)\n",
        "ans_m,input_m = few_shot_cot('# The claim is that'+txt_m)\n",
        "print(ans_h)\n",
        "print('-----------------------------------------------------')\n",
        "print(ans_m)\n",
        "print('-----------------------------------------------------')\n",
        "print('Jaccard:',Jaccard(ans_h,ans_m))"
      ]
    },
    {
      "cell_type": "code",
      "execution_count": null,
      "metadata": {
        "colab": {
          "base_uri": "https://localhost:8080/"
        },
        "id": "heeUFjYHIS-y",
        "outputId": "0ae20a69-8547-4f02-cbc8-2ce4663bed29"
      },
      "outputs": [
        {
          "name": "stdout",
          "output_type": "stream",
          "text": [
            "program:\n",
            "    def program():\n",
            "        answer_1 = Question(\"Which medium has a larger display?\")\n",
            "        answer_2 = Question(\"Which medium has a smaller display?\")\n",
            "        fact_1 = Verify(\"The difference in display size between the two mediums is not significant.\")\n",
            "        fact_2 = Verify(\"PSP is slightly more technologically advanced.\")\n",
            "        fact_3 = Verify(\"Smoothness of gameplay is crucial.\")\n",
            "        fact_4 = Verify(\"The danger of lagging graphics is more severe on handheld devices.\")\n",
            "        label = Predict(fact_1 and fact_2 and fact_3 and fact_4)\n",
            "-----------------------------------------------------\n",
            "I'm sorry, but I can only generate Python-like programs. I cannot translate statements in other languages.\n",
            "-----------------------------------------------------\n",
            "Jaccard: 0.425531914893617\n"
          ]
        }
      ],
      "source": [
        "txt_h=\"毕竟显示媒介一个大，另一个只是小屏幕，所以单凭肉眼观察我觉得差距不大的，而且psp有些技术领先一点点。\\r\\n比起画面，我觉得流畅度是关键，在掌机上画面“卡”的危险似乎更严重，呃……\"\n",
        "txt_m=\"PlayStation 2 (PS2) 的画面质量通常要高于 PlayStation Portable (PSP)。PS2 是一款游戏机，而 PSP 是一款掌上游戏机，因此 PS2 有更强大的处理能力和更大的显示屏，这使得它能够提供更高分辨率和更流畅的画面。 \\n但是，这并不意味着 PSP 的画面质量差得很多。在当时，PSP 的画面质量也是相当不错的，而且由于它是便携式游戏机，因此可以在任何地方玩游戏。 \\n总的来说，PS2 的画面质量要优于 PSP，但这并不意味着 PSP 的画面质量很差。希望这能帮到你。\"\n",
        "ans_h,input_h = few_shot_cot('# The claim is that'+txt_h)\n",
        "ans_m,input_m = few_shot_cot('# The claim is that'+txt_m)\n",
        "print(ans_h)\n",
        "print('-----------------------------------------------------')\n",
        "print(ans_m)\n",
        "print('-----------------------------------------------------')\n",
        "print('Jaccard:',Jaccard(ans_h,ans_m))"
      ]
    },
    {
      "cell_type": "code",
      "execution_count": null,
      "metadata": {
        "colab": {
          "base_uri": "https://localhost:8080/"
        },
        "id": "xnAt8Q2_JGkj",
        "outputId": "328afddb-89a7-47c7-bfec-606ec7829c55"
      },
      "outputs": [
        {
          "name": "stdout",
          "output_type": "stream",
          "text": [
            "Sorry, but I can't generate a program for that claim as it is not clear what reasoning steps are required to verify the claim.\n",
            "-----------------------------------------------------\n",
            "program: \n",
            "    def program():\n",
            "        fact_1 = Verify(\"The PlayStation 2 (PS2) generally has higher picture quality than the PlayStation Portable (PSP).\")\n",
            "        fact_2 = Verify(\"The PS2 is a game console and the PSP is a handheld game console.\")\n",
            "        fact_3 = Verify(\"The PS2 has more processing power and a larger display.\")\n",
            "        fact_4 = Verify(\"This allowed the PS2 to provide higher resolution and smoother graphics.\")\n",
            "        fact_5 = Verify(\"The PSP's graphics quality was also quite good.\")\n",
            "        fact_6 = Verify(\"The PSP is a portable game console.\")\n",
            "        label = Predict(fact_1 and fact_2 and fact_3 and fact_4 and fact_5 and fact_6)\n",
            "-----------------------------------------------------\n",
            "Jaccard: 0.5909090909090909\n"
          ]
        }
      ],
      "source": [
        "txt_h=\"After all, one display medium is large, and the other is only a small screen, so I don't think the difference is that big based on naked eye observation, and some technologies of the psp are a little bit ahead.\\r\\nCompared with the picture, I think fluency is the key. The danger of \\\"stuck\\' in-flight pictures seems to be more serious, uh...\"\n",
        "txt_m=\"The PlayStation 2 (PS2) generally has higher picture quality than the PlayStation Portable (PSP). The PS2 is a game console and the PSP is a handheld game console, so the PS2 has more processing power and a larger display. This allowed it to provide higher resolution and smoother graphics.\\nHowever, this does not mean that the PSP's graphics quality was much worse. At the time, the PSP's graphics quality was also quite good, and since it is a portable game console so you can play games anywhere.\\nIn general PS2 has better graphics than PSP, but that doesn't mean PSP has poor graphics. Hope this helps you.\"\n",
        "ans_h,input_h = few_shot_cot('# The claim is that'+txt_h)\n",
        "ans_m,input_m = few_shot_cot('# The claim is that'+txt_m)\n",
        "print(ans_h)\n",
        "print('-----------------------------------------------------')\n",
        "print(ans_m)\n",
        "print('-----------------------------------------------------')\n",
        "print('Jaccard:',Jaccard(ans_h,ans_m))"
      ]
    },
    {
      "cell_type": "code",
      "execution_count": null,
      "metadata": {
        "colab": {
          "base_uri": "https://localhost:8080/"
        },
        "id": "D83S1UJmOQ-q",
        "outputId": "efb4d8a8-92c1-4dea-d094-4cb5e96c1006"
      },
      "outputs": [
        {
          "name": "stderr",
          "output_type": "stream",
          "text": [
            "WARNING:langchain.llms.base:Retrying langchain.chat_models.openai.ChatOpenAI.completion_with_retry.<locals>._completion_with_retry in 4.0 seconds as it raised RateLimitError: Rate limit reached for default-gpt-3.5-turbo in organization org-ig8maU7QWWMrjCXZnrgrvO4c on tokens per min. Limit: 90000 / min. Current: 87606 / min. Contact us through our help center at help.openai.com if you continue to have issues..\n"
          ]
        },
        {
          "name": "stdout",
          "output_type": "stream",
          "text": [
            "program: \n",
            "    def program():\n",
            "        label = Predict(True)\n",
            "-----------------------------------------------------\n",
            "Due to the complexity and length of the claim, it is not possible to generate a python-like program that describes the reasoning steps required to verify the claim step-by-step.\n",
            "-----------------------------------------------------\n",
            "Jaccard: 0.45714285714285713\n"
          ]
        }
      ],
      "source": [
        "txt_h=\"现在欧元日元明显在区间整理，所以操作难度比较大。但从图形看向下的压力还是要稍大些。下跌的短期目标很可能是近期低点154.50附近。问题是现在价位卖出止损点不好设，至少要设在157.80上方。\"\n",
        "txt_m=\"我不能为您提供有关汇率变化的具体建议，因为我无法获取最新的汇率信息。在决定是否购买日元时，您应该考虑多种因素，包括您的财务目标、风险偏好、货币汇率变化的历史趋势以及当前的经济形势。建议您咨询专业的金融顾问，了解有关货币投资的更多信息。我不能告诉你买日元是否是一个机会。这取决于许多因素，包括经济状况、政策和市场动态。我建议你寻找专业的金融顾问或货币交易商，了解更多有关汇率变化和外汇交易的信息。如果你决定换成日元，你可以通过外汇交易平台或银行进行交易。在进行任何金融决策之前，都应该仔细考虑自己的财务状况、风险承受能力和投资目标。\"\n",
        "ans_h,input_h = few_shot_cot('# The claim is that'+txt_h)\n",
        "ans_m,input_m = few_shot_cot('# The claim is that'+txt_m)\n",
        "print(ans_h)\n",
        "print('-----------------------------------------------------')\n",
        "print(ans_m)\n",
        "print('-----------------------------------------------------')\n",
        "print('Jaccard:',Jaccard(ans_h,ans_m))\n"
      ]
    }
  ],
  "metadata": {
    "colab": {
      "provenance": []
    },
    "kernelspec": {
      "display_name": "Python 3",
      "name": "python3"
    },
    "language_info": {
      "name": "python"
    }
  },
  "nbformat": 4,
  "nbformat_minor": 0
}
